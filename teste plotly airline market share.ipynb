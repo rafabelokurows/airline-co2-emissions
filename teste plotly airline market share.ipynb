{
 "cells": [
  {
   "attachments": {},
   "cell_type": "markdown",
   "metadata": {},
   "source": [
    "## Airlines:\n",
    "https://www.eurocontrol.int/Economics/2021-DailyTrafficVariation-AOs.html\n",
    "\n",
    "https://www.eurocontrol.int/Economics/Download/2022/2022-Aircraft_Operators.xlsx\n",
    "https://www.eurocontrol.int/Economics/Download/2021/2021-Aircraft_Operators.xlsx\n",
    "https://www.eurocontrol.int/Economics/Download/2020/2020-Aircraft_Operators.xlsx\n",
    "https://www.eurocontrol.int/Economics/Download/Aircraft_Operators.xlsx\n",
    "\n",
    "### Airline groups definition:\n",
    "https://www.eurocontrol.int/directory/airline-groups-lookup\n",
    "\n",
    "## DAta on airports:\n",
    "https://www.eurocontrol.int/Economics/DailyTrafficVariation-Airports.html\n",
    "\n",
    "\n",
    "https://www.eurocontrol.int/Economics/Download/Airports.xlsx\n",
    "\n",
    "## Data on countries:\n",
    "https://www.eurocontrol.int/Economics/DailyTrafficVariation-States.html\n",
    "\n",
    "https://www.eurocontrol.int/Economics/Download/States.xlsx\n",
    "\n",
    "\n",
    "## Data on punctuality\n",
    "https://www.eurocontrol.int/Economics/DailyPunctuality-Airports.html\n",
    "https://www.eurocontrol.int/Economics/Download/Airports_Punctuality.xlsx\n",
    "\n",
    "## Efficiency per airline (dashboard)\n",
    "\n",
    "https://ansperformance.eu/efficiency/vfe/"
   ]
  },
  {
   "cell_type": "code",
   "execution_count": 1,
   "metadata": {},
   "outputs": [],
   "source": [
    "from IPython.core.interactiveshell import InteractiveShell\n",
    "\n",
    "InteractiveShell.ast_node_interactivity = \"all\""
   ]
  },
  {
   "cell_type": "code",
   "execution_count": 2,
   "metadata": {},
   "outputs": [
    {
     "data": {
      "text/html": [
       "<div>\n",
       "<style scoped>\n",
       "    .dataframe tbody tr th:only-of-type {\n",
       "        vertical-align: middle;\n",
       "    }\n",
       "\n",
       "    .dataframe tbody tr th {\n",
       "        vertical-align: top;\n",
       "    }\n",
       "\n",
       "    .dataframe thead th {\n",
       "        text-align: right;\n",
       "    }\n",
       "</style>\n",
       "<table border=\"1\" class=\"dataframe\">\n",
       "  <thead>\n",
       "    <tr style=\"text-align: right;\">\n",
       "      <th></th>\n",
       "      <th>Entity</th>\n",
       "      <th>Week</th>\n",
       "      <th>Day</th>\n",
       "      <th>Flights</th>\n",
       "      <th>Flights (7-day moving average)</th>\n",
       "      <th>Day 2019</th>\n",
       "      <th>Flights 2019 (Reference)</th>\n",
       "      <th>% vs 2019 (Daily)</th>\n",
       "      <th>% vs 2019 (7-day Moving Average)</th>\n",
       "      <th>Day Previous Year</th>\n",
       "      <th>Flights Previous Year</th>\n",
       "    </tr>\n",
       "  </thead>\n",
       "  <tbody>\n",
       "    <tr>\n",
       "      <th>0</th>\n",
       "      <td>AEGEAN Group</td>\n",
       "      <td>52</td>\n",
       "      <td>2022-01-01</td>\n",
       "      <td>118</td>\n",
       "      <td>201.4</td>\n",
       "      <td>2019-01-05</td>\n",
       "      <td>220</td>\n",
       "      <td>-0.463636</td>\n",
       "      <td>-0.204738</td>\n",
       "      <td>2021-01-02</td>\n",
       "      <td>83.0</td>\n",
       "    </tr>\n",
       "    <tr>\n",
       "      <th>1</th>\n",
       "      <td>AEGEAN Group</td>\n",
       "      <td>52</td>\n",
       "      <td>2022-01-02</td>\n",
       "      <td>239</td>\n",
       "      <td>204.9</td>\n",
       "      <td>2019-01-06</td>\n",
       "      <td>260</td>\n",
       "      <td>-0.080769</td>\n",
       "      <td>-0.180103</td>\n",
       "      <td>2021-01-03</td>\n",
       "      <td>153.0</td>\n",
       "    </tr>\n",
       "    <tr>\n",
       "      <th>2</th>\n",
       "      <td>AEGEAN Group</td>\n",
       "      <td>1</td>\n",
       "      <td>2022-01-03</td>\n",
       "      <td>237</td>\n",
       "      <td>203.9</td>\n",
       "      <td>2019-01-07</td>\n",
       "      <td>228</td>\n",
       "      <td>0.039474</td>\n",
       "      <td>-0.168899</td>\n",
       "      <td>2021-01-04</td>\n",
       "      <td>91.0</td>\n",
       "    </tr>\n",
       "    <tr>\n",
       "      <th>3</th>\n",
       "      <td>AEGEAN Group</td>\n",
       "      <td>1</td>\n",
       "      <td>2022-01-04</td>\n",
       "      <td>207</td>\n",
       "      <td>202.1</td>\n",
       "      <td>2019-01-08</td>\n",
       "      <td>214</td>\n",
       "      <td>-0.032710</td>\n",
       "      <td>-0.172998</td>\n",
       "      <td>2021-01-05</td>\n",
       "      <td>76.0</td>\n",
       "    </tr>\n",
       "    <tr>\n",
       "      <th>4</th>\n",
       "      <td>AEGEAN Group</td>\n",
       "      <td>1</td>\n",
       "      <td>2022-01-05</td>\n",
       "      <td>192</td>\n",
       "      <td>198.1</td>\n",
       "      <td>2019-01-09</td>\n",
       "      <td>222</td>\n",
       "      <td>-0.135135</td>\n",
       "      <td>-0.186987</td>\n",
       "      <td>2021-01-06</td>\n",
       "      <td>92.0</td>\n",
       "    </tr>\n",
       "  </tbody>\n",
       "</table>\n",
       "</div>"
      ],
      "text/plain": [
       "         Entity  Week        Day  Flights  Flights (7-day moving average)  \\\n",
       "0  AEGEAN Group    52 2022-01-01      118                           201.4   \n",
       "1  AEGEAN Group    52 2022-01-02      239                           204.9   \n",
       "2  AEGEAN Group     1 2022-01-03      237                           203.9   \n",
       "3  AEGEAN Group     1 2022-01-04      207                           202.1   \n",
       "4  AEGEAN Group     1 2022-01-05      192                           198.1   \n",
       "\n",
       "    Day 2019  Flights 2019 (Reference)  % vs 2019 (Daily)  \\\n",
       "0 2019-01-05                       220          -0.463636   \n",
       "1 2019-01-06                       260          -0.080769   \n",
       "2 2019-01-07                       228           0.039474   \n",
       "3 2019-01-08                       214          -0.032710   \n",
       "4 2019-01-09                       222          -0.135135   \n",
       "\n",
       "   % vs 2019 (7-day Moving Average) Day Previous Year  Flights Previous Year  \n",
       "0                         -0.204738        2021-01-02                   83.0  \n",
       "1                         -0.180103        2021-01-03                  153.0  \n",
       "2                         -0.168899        2021-01-04                   91.0  \n",
       "3                         -0.172998        2021-01-05                   76.0  \n",
       "4                         -0.186987        2021-01-06                   92.0  "
      ]
     },
     "execution_count": 2,
     "metadata": {},
     "output_type": "execute_result"
    }
   ],
   "source": [
    "import pandas as pd\n",
    "url_list = [\n",
    "    './2022-Aircraft_Operators.xlsx',\n",
    "    './2021-Aircraft_Operators.xlsx',\n",
    "    './2020-Aircraft_Operators.xlsx'\n",
    "]\n",
    "\n",
    "# Create an empty list to store the dataframes\n",
    "dfs = []\n",
    "\n",
    "# Loop through the list of URLs and read each Excel file\n",
    "for url in url_list:\n",
    "    df = pd.read_excel(url,sheet_name=\"Data\")\n",
    "    dfs.append(df)\n",
    "\n",
    "# Concatenate all the dataframes in the `dfs` list\n",
    "df_merged = pd.concat(dfs, ignore_index=True)\n",
    "\n",
    "# Inspect the merged dataframe\n",
    "df_merged.head()\n"
   ]
  },
  {
   "attachments": {},
   "cell_type": "markdown",
   "metadata": {},
   "source": [
    "## Carregando dados de 2023 e selecionando só airlines de interesse"
   ]
  },
  {
   "cell_type": "code",
   "execution_count": 3,
   "metadata": {},
   "outputs": [
    {
     "data": {
      "text/html": [
       "<div>\n",
       "<style scoped>\n",
       "    .dataframe tbody tr th:only-of-type {\n",
       "        vertical-align: middle;\n",
       "    }\n",
       "\n",
       "    .dataframe tbody tr th {\n",
       "        vertical-align: top;\n",
       "    }\n",
       "\n",
       "    .dataframe thead th {\n",
       "        text-align: right;\n",
       "    }\n",
       "</style>\n",
       "<table border=\"1\" class=\"dataframe\">\n",
       "  <thead>\n",
       "    <tr style=\"text-align: right;\">\n",
       "      <th></th>\n",
       "      <th>Entity</th>\n",
       "      <th>Week</th>\n",
       "      <th>Day</th>\n",
       "      <th>Flights</th>\n",
       "      <th>Flights (7-day moving average)</th>\n",
       "      <th>Day 2019</th>\n",
       "      <th>Flights 2019 (Reference)</th>\n",
       "      <th>% vs 2019 (Daily)</th>\n",
       "      <th>% vs 2019 (7-day Moving Average)</th>\n",
       "      <th>Day Previous Year</th>\n",
       "      <th>Flights Previous Year</th>\n",
       "    </tr>\n",
       "  </thead>\n",
       "  <tbody>\n",
       "    <tr>\n",
       "      <th>93</th>\n",
       "      <td>Aegean Executive</td>\n",
       "      <td>1</td>\n",
       "      <td>2023-01-02</td>\n",
       "      <td>0</td>\n",
       "      <td>0.0</td>\n",
       "      <td>2018-12-31</td>\n",
       "      <td>0</td>\n",
       "      <td>0.000000</td>\n",
       "      <td>0.000000</td>\n",
       "      <td>2022-01-03</td>\n",
       "      <td>0</td>\n",
       "    </tr>\n",
       "    <tr>\n",
       "      <th>1973</th>\n",
       "      <td>DHL Group</td>\n",
       "      <td>1</td>\n",
       "      <td>2023-01-02</td>\n",
       "      <td>191</td>\n",
       "      <td>215.3</td>\n",
       "      <td>2018-12-31</td>\n",
       "      <td>120</td>\n",
       "      <td>0.591667</td>\n",
       "      <td>0.833333</td>\n",
       "      <td>2022-01-03</td>\n",
       "      <td>192</td>\n",
       "    </tr>\n",
       "    <tr>\n",
       "      <th>4417</th>\n",
       "      <td>Lufthansa Airlines</td>\n",
       "      <td>1</td>\n",
       "      <td>2023-01-02</td>\n",
       "      <td>996</td>\n",
       "      <td>856.6</td>\n",
       "      <td>2018-12-31</td>\n",
       "      <td>706</td>\n",
       "      <td>0.410765</td>\n",
       "      <td>-0.091377</td>\n",
       "      <td>2022-01-03</td>\n",
       "      <td>948</td>\n",
       "    </tr>\n",
       "    <tr>\n",
       "      <th>3477</th>\n",
       "      <td>Iberia Regional-Air Nostrum</td>\n",
       "      <td>1</td>\n",
       "      <td>2023-01-02</td>\n",
       "      <td>162</td>\n",
       "      <td>157.4</td>\n",
       "      <td>2018-12-31</td>\n",
       "      <td>154</td>\n",
       "      <td>0.051948</td>\n",
       "      <td>-0.027361</td>\n",
       "      <td>2022-01-03</td>\n",
       "      <td>139</td>\n",
       "    </tr>\n",
       "    <tr>\n",
       "      <th>4793</th>\n",
       "      <td>Pegasus</td>\n",
       "      <td>1</td>\n",
       "      <td>2023-01-02</td>\n",
       "      <td>335</td>\n",
       "      <td>385.6</td>\n",
       "      <td>2018-12-31</td>\n",
       "      <td>389</td>\n",
       "      <td>-0.138817</td>\n",
       "      <td>-0.153918</td>\n",
       "      <td>2022-01-03</td>\n",
       "      <td>354</td>\n",
       "    </tr>\n",
       "  </tbody>\n",
       "</table>\n",
       "</div>"
      ],
      "text/plain": [
       "                           Entity  Week        Day  Flights  \\\n",
       "93               Aegean Executive     1 2023-01-02        0   \n",
       "1973                    DHL Group     1 2023-01-02      191   \n",
       "4417           Lufthansa Airlines     1 2023-01-02      996   \n",
       "3477  Iberia Regional-Air Nostrum     1 2023-01-02      162   \n",
       "4793                      Pegasus     1 2023-01-02      335   \n",
       "\n",
       "      Flights (7-day moving average)   Day 2019  Flights 2019 (Reference)  \\\n",
       "93                               0.0 2018-12-31                         0   \n",
       "1973                           215.3 2018-12-31                       120   \n",
       "4417                           856.6 2018-12-31                       706   \n",
       "3477                           157.4 2018-12-31                       154   \n",
       "4793                           385.6 2018-12-31                       389   \n",
       "\n",
       "      % vs 2019 (Daily)  % vs 2019 (7-day Moving Average) Day Previous Year  \\\n",
       "93             0.000000                          0.000000        2022-01-03   \n",
       "1973           0.591667                          0.833333        2022-01-03   \n",
       "4417           0.410765                         -0.091377        2022-01-03   \n",
       "3477           0.051948                         -0.027361        2022-01-03   \n",
       "4793          -0.138817                         -0.153918        2022-01-03   \n",
       "\n",
       "      Flights Previous Year  \n",
       "93                        0  \n",
       "1973                    192  \n",
       "4417                    948  \n",
       "3477                    139  \n",
       "4793                    354  "
      ]
     },
     "execution_count": 3,
     "metadata": {},
     "output_type": "execute_result"
    }
   ],
   "source": [
    "url_2023 = './Aircraft_Operators.xlsx'\n",
    "df2023 = pd.read_excel(url_2023,sheet_name=\"Data\")\n",
    "df2023.query(\"Day > '2023-01-01'\").sort_values('Day').head()    \n",
    "airlines=df_merged.Entity.unique().tolist()\n",
    "df2023 = df2023[df2023['Entity'].isin(airlines)]"
   ]
  },
  {
   "attachments": {},
   "cell_type": "markdown",
   "metadata": {},
   "source": [
    "## Verificando se ambos dfs tem o mesmo numero de airlines"
   ]
  },
  {
   "cell_type": "code",
   "execution_count": 4,
   "metadata": {},
   "outputs": [
    {
     "data": {
      "text/plain": [
       "37"
      ]
     },
     "execution_count": 4,
     "metadata": {},
     "output_type": "execute_result"
    },
    {
     "data": {
      "text/plain": [
       "37"
      ]
     },
     "execution_count": 4,
     "metadata": {},
     "output_type": "execute_result"
    }
   ],
   "source": [
    "df2023['Entity'].nunique()\n",
    "df_merged['Entity'].nunique()"
   ]
  },
  {
   "cell_type": "code",
   "execution_count": 5,
   "metadata": {},
   "outputs": [
    {
     "data": {
      "text/html": [
       "<div>\n",
       "<style scoped>\n",
       "    .dataframe tbody tr th:only-of-type {\n",
       "        vertical-align: middle;\n",
       "    }\n",
       "\n",
       "    .dataframe tbody tr th {\n",
       "        vertical-align: top;\n",
       "    }\n",
       "\n",
       "    .dataframe thead th {\n",
       "        text-align: right;\n",
       "    }\n",
       "</style>\n",
       "<table border=\"1\" class=\"dataframe\">\n",
       "  <thead>\n",
       "    <tr style=\"text-align: right;\">\n",
       "      <th></th>\n",
       "      <th>Entity</th>\n",
       "      <th>Week</th>\n",
       "      <th>Day</th>\n",
       "      <th>Flights</th>\n",
       "      <th>Flights (7-day moving average)</th>\n",
       "      <th>Day 2019</th>\n",
       "      <th>Flights 2019 (Reference)</th>\n",
       "      <th>% vs 2019 (Daily)</th>\n",
       "      <th>% vs 2019 (7-day Moving Average)</th>\n",
       "      <th>Day Previous Year</th>\n",
       "      <th>Flights Previous Year</th>\n",
       "      <th>Year</th>\n",
       "      <th>Month</th>\n",
       "      <th>YearMon</th>\n",
       "    </tr>\n",
       "  </thead>\n",
       "  <tbody>\n",
       "    <tr>\n",
       "      <th>0</th>\n",
       "      <td>AEGEAN Group</td>\n",
       "      <td>52</td>\n",
       "      <td>2022-01-01</td>\n",
       "      <td>118</td>\n",
       "      <td>201.4</td>\n",
       "      <td>2019-01-05</td>\n",
       "      <td>220</td>\n",
       "      <td>-0.463636</td>\n",
       "      <td>-0.204738</td>\n",
       "      <td>2021-01-02</td>\n",
       "      <td>83.0</td>\n",
       "      <td>2022</td>\n",
       "      <td>1</td>\n",
       "      <td>2022-01</td>\n",
       "    </tr>\n",
       "    <tr>\n",
       "      <th>1</th>\n",
       "      <td>AEGEAN Group</td>\n",
       "      <td>52</td>\n",
       "      <td>2022-01-02</td>\n",
       "      <td>239</td>\n",
       "      <td>204.9</td>\n",
       "      <td>2019-01-06</td>\n",
       "      <td>260</td>\n",
       "      <td>-0.080769</td>\n",
       "      <td>-0.180103</td>\n",
       "      <td>2021-01-03</td>\n",
       "      <td>153.0</td>\n",
       "      <td>2022</td>\n",
       "      <td>1</td>\n",
       "      <td>2022-01</td>\n",
       "    </tr>\n",
       "    <tr>\n",
       "      <th>2</th>\n",
       "      <td>AEGEAN Group</td>\n",
       "      <td>1</td>\n",
       "      <td>2022-01-03</td>\n",
       "      <td>237</td>\n",
       "      <td>203.9</td>\n",
       "      <td>2019-01-07</td>\n",
       "      <td>228</td>\n",
       "      <td>0.039474</td>\n",
       "      <td>-0.168899</td>\n",
       "      <td>2021-01-04</td>\n",
       "      <td>91.0</td>\n",
       "      <td>2022</td>\n",
       "      <td>1</td>\n",
       "      <td>2022-01</td>\n",
       "    </tr>\n",
       "    <tr>\n",
       "      <th>3</th>\n",
       "      <td>AEGEAN Group</td>\n",
       "      <td>1</td>\n",
       "      <td>2022-01-04</td>\n",
       "      <td>207</td>\n",
       "      <td>202.1</td>\n",
       "      <td>2019-01-08</td>\n",
       "      <td>214</td>\n",
       "      <td>-0.032710</td>\n",
       "      <td>-0.172998</td>\n",
       "      <td>2021-01-05</td>\n",
       "      <td>76.0</td>\n",
       "      <td>2022</td>\n",
       "      <td>1</td>\n",
       "      <td>2022-01</td>\n",
       "    </tr>\n",
       "    <tr>\n",
       "      <th>4</th>\n",
       "      <td>AEGEAN Group</td>\n",
       "      <td>1</td>\n",
       "      <td>2022-01-05</td>\n",
       "      <td>192</td>\n",
       "      <td>198.1</td>\n",
       "      <td>2019-01-09</td>\n",
       "      <td>222</td>\n",
       "      <td>-0.135135</td>\n",
       "      <td>-0.186987</td>\n",
       "      <td>2021-01-06</td>\n",
       "      <td>92.0</td>\n",
       "      <td>2022</td>\n",
       "      <td>1</td>\n",
       "      <td>2022-01</td>\n",
       "    </tr>\n",
       "  </tbody>\n",
       "</table>\n",
       "</div>"
      ],
      "text/plain": [
       "         Entity  Week        Day  Flights  Flights (7-day moving average)  \\\n",
       "0  AEGEAN Group    52 2022-01-01      118                           201.4   \n",
       "1  AEGEAN Group    52 2022-01-02      239                           204.9   \n",
       "2  AEGEAN Group     1 2022-01-03      237                           203.9   \n",
       "3  AEGEAN Group     1 2022-01-04      207                           202.1   \n",
       "4  AEGEAN Group     1 2022-01-05      192                           198.1   \n",
       "\n",
       "    Day 2019  Flights 2019 (Reference)  % vs 2019 (Daily)  \\\n",
       "0 2019-01-05                       220          -0.463636   \n",
       "1 2019-01-06                       260          -0.080769   \n",
       "2 2019-01-07                       228           0.039474   \n",
       "3 2019-01-08                       214          -0.032710   \n",
       "4 2019-01-09                       222          -0.135135   \n",
       "\n",
       "   % vs 2019 (7-day Moving Average) Day Previous Year  Flights Previous Year  \\\n",
       "0                         -0.204738        2021-01-02                   83.0   \n",
       "1                         -0.180103        2021-01-03                  153.0   \n",
       "2                         -0.168899        2021-01-04                   91.0   \n",
       "3                         -0.172998        2021-01-05                   76.0   \n",
       "4                         -0.186987        2021-01-06                   92.0   \n",
       "\n",
       "   Year  Month  YearMon  \n",
       "0  2022      1  2022-01  \n",
       "1  2022      1  2022-01  \n",
       "2  2022      1  2022-01  \n",
       "3  2022      1  2022-01  \n",
       "4  2022      1  2022-01  "
      ]
     },
     "execution_count": 5,
     "metadata": {},
     "output_type": "execute_result"
    }
   ],
   "source": [
    "df_merged = pd.concat([df_merged, df2023])\n",
    "df_merged['Year'] = df_merged.Day.dt.year\n",
    "df_merged['Month'] = df_merged.Day.dt.month\n",
    "df_merged['YearMon'] = df_merged['Day'].dt.strftime('%Y-%m')\n",
    "df_merged = df_merged.query(\"Entity != 'Royal Air Maroc'\")\n",
    "df_merged.head()"
   ]
  },
  {
   "cell_type": "code",
   "execution_count": 6,
   "metadata": {},
   "outputs": [
    {
     "data": {
      "text/html": [
       "<div>\n",
       "<style scoped>\n",
       "    .dataframe tbody tr th:only-of-type {\n",
       "        vertical-align: middle;\n",
       "    }\n",
       "\n",
       "    .dataframe tbody tr th {\n",
       "        vertical-align: top;\n",
       "    }\n",
       "\n",
       "    .dataframe thead th {\n",
       "        text-align: right;\n",
       "    }\n",
       "</style>\n",
       "<table border=\"1\" class=\"dataframe\">\n",
       "  <thead>\n",
       "    <tr style=\"text-align: right;\">\n",
       "      <th></th>\n",
       "      <th>Entity</th>\n",
       "      <th>YearMon</th>\n",
       "      <th>flights_airline</th>\n",
       "      <th>flights_total</th>\n",
       "      <th>share</th>\n",
       "    </tr>\n",
       "  </thead>\n",
       "  <tbody>\n",
       "    <tr>\n",
       "      <th>0</th>\n",
       "      <td>AEGEAN Group</td>\n",
       "      <td>2020-01</td>\n",
       "      <td>7398</td>\n",
       "      <td>506549</td>\n",
       "      <td>0.014605</td>\n",
       "    </tr>\n",
       "    <tr>\n",
       "      <th>1</th>\n",
       "      <td>AEGEAN Group</td>\n",
       "      <td>2020-02</td>\n",
       "      <td>6623</td>\n",
       "      <td>483751</td>\n",
       "      <td>0.013691</td>\n",
       "    </tr>\n",
       "    <tr>\n",
       "      <th>2</th>\n",
       "      <td>AEGEAN Group</td>\n",
       "      <td>2020-03</td>\n",
       "      <td>4949</td>\n",
       "      <td>318232</td>\n",
       "      <td>0.015552</td>\n",
       "    </tr>\n",
       "    <tr>\n",
       "      <th>3</th>\n",
       "      <td>AEGEAN Group</td>\n",
       "      <td>2020-04</td>\n",
       "      <td>1142</td>\n",
       "      <td>43960</td>\n",
       "      <td>0.025978</td>\n",
       "    </tr>\n",
       "    <tr>\n",
       "      <th>4</th>\n",
       "      <td>AEGEAN Group</td>\n",
       "      <td>2020-05</td>\n",
       "      <td>1372</td>\n",
       "      <td>49881</td>\n",
       "      <td>0.027505</td>\n",
       "    </tr>\n",
       "  </tbody>\n",
       "</table>\n",
       "</div>"
      ],
      "text/plain": [
       "         Entity  YearMon  flights_airline  flights_total     share\n",
       "0  AEGEAN Group  2020-01             7398         506549  0.014605\n",
       "1  AEGEAN Group  2020-02             6623         483751  0.013691\n",
       "2  AEGEAN Group  2020-03             4949         318232  0.015552\n",
       "3  AEGEAN Group  2020-04             1142          43960  0.025978\n",
       "4  AEGEAN Group  2020-05             1372          49881  0.027505"
      ]
     },
     "execution_count": 6,
     "metadata": {},
     "output_type": "execute_result"
    },
    {
     "data": {
      "text/plain": [
       "YearMon  Entity              YearMon\n",
       "2020-01  Ryanair Group       2020-01    0.124118\n",
       "         Lufthansa Airlines  2020-01    0.078828\n",
       "         easyJet Group       2020-01    0.075237\n",
       "         Turkish Airlines    2020-01    0.074546\n",
       "         Air France Group    2020-01    0.066124\n",
       "                                          ...   \n",
       "2023-04  Ryanair Group       2023-04    0.168159\n",
       "         easyJet Group       2023-04    0.082794\n",
       "         Turkish Airlines    2023-04    0.073192\n",
       "         Lufthansa Airlines  2023-04    0.065734\n",
       "         Air France Group    2023-04    0.052327\n",
       "Name: share, Length: 200, dtype: float64"
      ]
     },
     "execution_count": 6,
     "metadata": {},
     "output_type": "execute_result"
    }
   ],
   "source": [
    "totalYearmon = df_merged.groupby(['YearMon']).agg(flights_total=('Flights',sum))\n",
    "monthly_share = df_merged.groupby(['Entity','YearMon']).agg(flights_airline=('Flights',sum)).reset_index().merge(totalYearmon,on='YearMon',how='left')\n",
    "monthly_share['share'] = monthly_share['flights_airline'] / monthly_share['flights_total']\n",
    "monthly_share.head()\n",
    "monthly_share.set_index(['Entity','YearMon']).groupby(['YearMon'])['share'].nlargest(5)"
   ]
  },
  {
   "cell_type": "code",
   "execution_count": 12,
   "metadata": {},
   "outputs": [
    {
     "data": {
      "text/html": [
       "<div>\n",
       "<style scoped>\n",
       "    .dataframe tbody tr th:only-of-type {\n",
       "        vertical-align: middle;\n",
       "    }\n",
       "\n",
       "    .dataframe tbody tr th {\n",
       "        vertical-align: top;\n",
       "    }\n",
       "\n",
       "    .dataframe thead th {\n",
       "        text-align: right;\n",
       "    }\n",
       "</style>\n",
       "<table border=\"1\" class=\"dataframe\">\n",
       "  <thead>\n",
       "    <tr style=\"text-align: right;\">\n",
       "      <th></th>\n",
       "      <th>Entity</th>\n",
       "      <th>Year</th>\n",
       "      <th>flights_airline</th>\n",
       "      <th>flights_total</th>\n",
       "      <th>share</th>\n",
       "    </tr>\n",
       "  </thead>\n",
       "  <tbody>\n",
       "    <tr>\n",
       "      <th>0</th>\n",
       "      <td>AEGEAN Group</td>\n",
       "      <td>2020</td>\n",
       "      <td>55228</td>\n",
       "      <td>2877806</td>\n",
       "      <td>0.019191</td>\n",
       "    </tr>\n",
       "    <tr>\n",
       "      <th>1</th>\n",
       "      <td>AEGEAN Group</td>\n",
       "      <td>2021</td>\n",
       "      <td>75390</td>\n",
       "      <td>3548955</td>\n",
       "      <td>0.021243</td>\n",
       "    </tr>\n",
       "    <tr>\n",
       "      <th>2</th>\n",
       "      <td>AEGEAN Group</td>\n",
       "      <td>2022</td>\n",
       "      <td>127064</td>\n",
       "      <td>7403022</td>\n",
       "      <td>0.017164</td>\n",
       "    </tr>\n",
       "    <tr>\n",
       "      <th>3</th>\n",
       "      <td>AEGEAN Group</td>\n",
       "      <td>2023</td>\n",
       "      <td>22268</td>\n",
       "      <td>1472690</td>\n",
       "      <td>0.015121</td>\n",
       "    </tr>\n",
       "    <tr>\n",
       "      <th>4</th>\n",
       "      <td>ASL Airlines Belgium</td>\n",
       "      <td>2020</td>\n",
       "      <td>25947</td>\n",
       "      <td>2877806</td>\n",
       "      <td>0.009016</td>\n",
       "    </tr>\n",
       "  </tbody>\n",
       "</table>\n",
       "</div>"
      ],
      "text/plain": [
       "                 Entity  Year  flights_airline  flights_total     share\n",
       "0          AEGEAN Group  2020            55228        2877806  0.019191\n",
       "1          AEGEAN Group  2021            75390        3548955  0.021243\n",
       "2          AEGEAN Group  2022           127064        7403022  0.017164\n",
       "3          AEGEAN Group  2023            22268        1472690  0.015121\n",
       "4  ASL Airlines Belgium  2020            25947        2877806  0.009016"
      ]
     },
     "execution_count": 12,
     "metadata": {},
     "output_type": "execute_result"
    }
   ],
   "source": [
    "totalYear = df_merged.groupby(['Year']).agg(flights_total=('Flights',sum))\n",
    "yearly_share = df_merged.groupby(['Entity','Year']).agg(flights_airline=('Flights',sum)).reset_index().merge(totalYear,on='Year',how='left')\n",
    "yearly_share['share'] = yearly_share['flights_airline'] / yearly_share['flights_total']\n",
    "yearly_share.head()\n",
    "top5year = yearly_share.set_index(['Entity','Year']).groupby(['Year'])['share'].nlargest(5)\n",
    "dfYear = pd.DataFrame(top5year).reset_index(level=0,drop=True).reset_index()"
   ]
  },
  {
   "cell_type": "code",
   "execution_count": 18,
   "metadata": {},
   "outputs": [
    {
     "data": {
      "text/html": [
       "<div>\n",
       "<style scoped>\n",
       "    .dataframe tbody tr th:only-of-type {\n",
       "        vertical-align: middle;\n",
       "    }\n",
       "\n",
       "    .dataframe tbody tr th {\n",
       "        vertical-align: top;\n",
       "    }\n",
       "\n",
       "    .dataframe thead th {\n",
       "        text-align: right;\n",
       "    }\n",
       "</style>\n",
       "<table border=\"1\" class=\"dataframe\">\n",
       "  <thead>\n",
       "    <tr style=\"text-align: right;\">\n",
       "      <th></th>\n",
       "      <th>Year</th>\n",
       "      <th>share</th>\n",
       "      <th>Entity</th>\n",
       "    </tr>\n",
       "  </thead>\n",
       "  <tbody>\n",
       "    <tr>\n",
       "      <th>0</th>\n",
       "      <td>2020</td>\n",
       "      <td>0.597721</td>\n",
       "      <td>Others</td>\n",
       "    </tr>\n",
       "    <tr>\n",
       "      <th>1</th>\n",
       "      <td>2021</td>\n",
       "      <td>0.575137</td>\n",
       "      <td>Others</td>\n",
       "    </tr>\n",
       "    <tr>\n",
       "      <th>2</th>\n",
       "      <td>2022</td>\n",
       "      <td>0.562964</td>\n",
       "      <td>Others</td>\n",
       "    </tr>\n",
       "    <tr>\n",
       "      <th>3</th>\n",
       "      <td>2023</td>\n",
       "      <td>0.570692</td>\n",
       "      <td>Others</td>\n",
       "    </tr>\n",
       "  </tbody>\n",
       "</table>\n",
       "</div>"
      ],
      "text/plain": [
       "   Year     share  Entity\n",
       "0  2020  0.597721  Others\n",
       "1  2021  0.575137  Others\n",
       "2  2022  0.562964  Others\n",
       "3  2023  0.570692  Others"
      ]
     },
     "execution_count": 18,
     "metadata": {},
     "output_type": "execute_result"
    }
   ],
   "source": [
    "dfothers = pd.DataFrame(dfYear.groupby('Year')['share'].sum()).reset_index()\n",
    "dfothers['Entity'] = 'Others'\n",
    "dfothers['share'] = 1- dfothers['share']\n",
    "dfothers.head()\n",
    "df_w_others = pd.concat([dfYear,dfothers]).sort_values(by=['Year','share'], ascending = False)\n",
    "df_w_others['Entity'] = pd.Categorical(df['Entity'], [\"Low\", \"Medium\", \"High\", \"Very High\"])\n",
    "df.sort_values(['Job_Satisfaction'], inplace=True)\n",
    "#.drop(columns=['Year'],axis=1)"
   ]
  },
  {
   "cell_type": "code",
   "execution_count": 9,
   "metadata": {},
   "outputs": [
    {
     "data": {
      "text/plain": [
       "<Axes: xlabel='Year'>"
      ]
     },
     "execution_count": 9,
     "metadata": {},
     "output_type": "execute_result"
    },
    {
     "data": {
      "image/png": "[encoded data removed]",
      "text/plain": [
       "<Figure size 640x480 with 1 Axes>"
      ]
     },
     "metadata": {},
     "output_type": "display_data"
    }
   ],
   "source": [
    "#df_w_others.pivot(*df_w_others)#.plot(kind = 'bar', stacked = True)\n",
    "import matplotlib.pyplot  as plt\n",
    "\n",
    "pivoted = df_w_others.pivot(index='Year', columns='Entity', values='share')\n",
    "pivoted.plot(kind = 'bar', stacked = True)\n"
   ]
  },
  {
   "cell_type": "code",
   "execution_count": 19,
   "metadata": {},
   "outputs": [
    {
     "data": {
      "application/vnd.plotly.v1+json": {
       "config": {
        "plotlyServerURL": "https://plot.ly"
       },
       "data": [
        {
         "alignmentgroup": "True",
         "hovertemplate": "Entity=Others<br>Year=%{x}<br>share=%{y}<extra></extra>",
         "legendgroup": "Others",
         "marker": {
          "color": "#636efa",
          "pattern": {
           "shape": ""
          }
         },
         "name": "Others",
         "offsetgroup": "Others",
         "orientation": "v",
         "showlegend": true,
         "textposition": "auto",
         "texttemplate": "%{y:.2%}",
         "type": "bar",
         "x": [
          2023,
          2022,
          2021,
          2020
         ],
         "xaxis": "x",
         "y": [
          0.5706924064127549,
          0.5629640165867398,
          0.5751366247247429,
          0.5977213196442012
         ],
         "yaxis": "y"
        },
        {
         "alignmentgroup": "True",
         "hovertemplate": "Entity=Ryanair Group<br>Year=%{x}<br>share=%{y}<extra></extra>",
         "legendgroup": "Ryanair Group",
         "marker": {
          "color": "#EF553B",
          "pattern": {
           "shape": ""
          }
         },
         "name": "Ryanair Group",
         "offsetgroup": "Ryanair Group",
         "orientation": "v",
         "showlegend": true,
         "textposition": "auto",
         "texttemplate": "%{y:.2%}",
         "type": "bar",
         "x": [
          2023,
          2022,
          2021,
          2020
         ],
         "xaxis": "x",
         "y": [
          0.149226245849432,
          0.15468912560303077,
          0.13583096996158023,
          0.12090147841793367
         ],
         "yaxis": "y"
        },
        {
         "alignmentgroup": "True",
         "hovertemplate": "Entity=Turkish Airlines<br>Year=%{x}<br>share=%{y}<extra></extra>",
         "legendgroup": "Turkish Airlines",
         "marker": {
          "color": "#00cc96",
          "pattern": {
           "shape": ""
          }
         },
         "name": "Turkish Airlines",
         "offsetgroup": "Turkish Airlines",
         "orientation": "v",
         "showlegend": true,
         "textposition": "auto",
         "texttemplate": "%{y:.2%}",
         "type": "bar",
         "x": [
          2023,
          2022,
          2021,
          2020
         ],
         "xaxis": "x",
         "y": [
          0.08444343344492052,
          0.07650794499867757,
          0.09649685611680058,
          0.07966311836169637
         ],
         "yaxis": "y"
        },
        {
         "alignmentgroup": "True",
         "hovertemplate": "Entity=easyJet Group<br>Year=%{x}<br>share=%{y}<extra></extra>",
         "legendgroup": "easyJet Group",
         "marker": {
          "color": "#ab63fa",
          "pattern": {
           "shape": ""
          }
         },
         "name": "easyJet Group",
         "offsetgroup": "easyJet Group",
         "orientation": "v",
         "showlegend": true,
         "textposition": "auto",
         "texttemplate": "%{y:.2%}",
         "type": "bar",
         "x": [
          2023,
          2022,
          2021,
          2020
         ],
         "xaxis": "x",
         "y": [
          0.07400674955353809,
          0.08115631697433831,
          0.062395832012521996,
          0.06952935673912695
         ],
         "yaxis": "y"
        },
        {
         "alignmentgroup": "True",
         "hovertemplate": "Entity=Lufthansa Airlines<br>Year=%{x}<br>share=%{y}<extra></extra>",
         "legendgroup": "Lufthansa Airlines",
         "marker": {
          "color": "#FFA15A",
          "pattern": {
           "shape": ""
          }
         },
         "name": "Lufthansa Airlines",
         "offsetgroup": "Lufthansa Airlines",
         "orientation": "v",
         "showlegend": true,
         "textposition": "auto",
         "texttemplate": "%{y:.2%}",
         "type": "bar",
         "x": [
          2023,
          2022,
          2021,
          2020
         ],
         "xaxis": "x",
         "y": [
          0.06334598591692753,
          0.06563292666157144,
          0.06349587413759825,
          0.06743366300577593
         ],
         "yaxis": "y"
        },
        {
         "alignmentgroup": "True",
         "hovertemplate": "Entity=Air France Group<br>Year=%{x}<br>share=%{y}<extra></extra>",
         "legendgroup": "Air France Group",
         "marker": {
          "color": "#19d3f3",
          "pattern": {
           "shape": ""
          }
         },
         "name": "Air France Group",
         "offsetgroup": "Air France Group",
         "orientation": "v",
         "showlegend": true,
         "textposition": "auto",
         "texttemplate": "%{y:.2%}",
         "type": "bar",
         "x": [
          2023,
          2022,
          2021,
          2020
         ],
         "xaxis": "x",
         "y": [
          0.05828517882242699,
          0.059049669175642056,
          0.06664384304675601,
          0.0647510638312659
         ],
         "yaxis": "y"
        }
       ],
       "layout": {
        "barmode": "relative",
        "legend": {
         "title": {
          "text": "Entity"
         },
         "tracegroupgap": 0
        },
        "margin": {
         "t": 60
        },
        "template": {
         "data": {
          "bar": [
           {
            "error_x": {
             "color": "#2a3f5f"
            },
            "error_y": {
             "color": "#2a3f5f"
            },
            "marker": {
             "line": {
              "color": "#E5ECF6",
              "width": 0.5
             },
             "pattern": {
              "fillmode": "overlay",
              "size": 10,
              "solidity": 0.2
             }
            },
            "type": "bar"
           }
          ],
          "barpolar": [
           {
            "marker": {
             "line": {
              "color": "#E5ECF6",
              "width": 0.5
             },
             "pattern": {
              "fillmode": "overlay",
              "size": 10,
              "solidity": 0.2
             }
            },
            "type": "barpolar"
           }
          ],
          "carpet": [
           {
            "aaxis": {
             "endlinecolor": "#2a3f5f",
             "gridcolor": "white",
             "linecolor": "white",
             "minorgridcolor": "white",
             "startlinecolor": "#2a3f5f"
            },
            "baxis": {
             "endlinecolor": "#2a3f5f",
             "gridcolor": "white",
             "linecolor": "white",
             "minorgridcolor": "white",
             "startlinecolor": "#2a3f5f"
            },
            "type": "carpet"
           }
          ],
          "choropleth": [
           {
            "colorbar": {
             "outlinewidth": 0,
             "ticks": ""
            },
            "type": "choropleth"
           }
          ],
          "contour": [
           {
            "colorbar": {
             "outlinewidth": 0,
             "ticks": ""
            },
            "colorscale": [
             [
              0,
              "#0d0887"
             ],
             [
              0.1111111111111111,
              "#46039f"
             ],
             [
              0.2222222222222222,
              "#7201a8"
             ],
             [
              0.3333333333333333,
              "#9c179e"
             ],
             [
              0.4444444444444444,
              "#bd3786"
             ],
             [
              0.5555555555555556,
              "#d8576b"
             ],
             [
              0.6666666666666666,
              "#ed7953"
             ],
             [
              0.7777777777777778,
              "#fb9f3a"
             ],
             [
              0.8888888888888888,
              "#fdca26"
             ],
             [
              1,
              "#f0f921"
             ]
            ],
            "type": "contour"
           }
          ],
          "contourcarpet": [
           {
            "colorbar": {
             "outlinewidth": 0,
             "ticks": ""
            },
            "type": "contourcarpet"
           }
          ],
          "heatmap": [
           {
            "colorbar": {
             "outlinewidth": 0,
             "ticks": ""
            },
            "colorscale": [
             [
              0,
              "#0d0887"
             ],
             [
              0.1111111111111111,
              "#46039f"
             ],
             [
              0.2222222222222222,
              "#7201a8"
             ],
             [
              0.3333333333333333,
              "#9c179e"
             ],
             [
              0.4444444444444444,
              "#bd3786"
             ],
             [
              0.5555555555555556,
              "#d8576b"
             ],
             [
              0.6666666666666666,
              "#ed7953"
             ],
             [
              0.7777777777777778,
              "#fb9f3a"
             ],
             [
              0.8888888888888888,
              "#fdca26"
             ],
             [
              1,
              "#f0f921"
             ]
            ],
            "type": "heatmap"
           }
          ],
          "heatmapgl": [
           {
            "colorbar": {
             "outlinewidth": 0,
             "ticks": ""
            },
            "colorscale": [
             [
              0,
              "#0d0887"
             ],
             [
              0.1111111111111111,
              "#46039f"
             ],
             [
              0.2222222222222222,
              "#7201a8"
             ],
             [
              0.3333333333333333,
              "#9c179e"
             ],
             [
              0.4444444444444444,
              "#bd3786"
             ],
             [
              0.5555555555555556,
              "#d8576b"
             ],
             [
              0.6666666666666666,
              "#ed7953"
             ],
             [
              0.7777777777777778,
              "#fb9f3a"
             ],
             [
              0.8888888888888888,
              "#fdca26"
             ],
             [
              1,
              "#f0f921"
             ]
            ],
            "type": "heatmapgl"
           }
          ],
          "histogram": [
           {
            "marker": {
             "pattern": {
              "fillmode": "overlay",
              "size": 10,
              "solidity": 0.2
             }
            },
            "type": "histogram"
           }
          ],
          "histogram2d": [
           {
            "colorbar": {
             "outlinewidth": 0,
             "ticks": ""
            },
            "colorscale": [
             [
              0,
              "#0d0887"
             ],
             [
              0.1111111111111111,
              "#46039f"
             ],
             [
              0.2222222222222222,
              "#7201a8"
             ],
             [
              0.3333333333333333,
              "#9c179e"
             ],
             [
              0.4444444444444444,
              "#bd3786"
             ],
             [
              0.5555555555555556,
              "#d8576b"
             ],
             [
              0.6666666666666666,
              "#ed7953"
             ],
             [
              0.7777777777777778,
              "#fb9f3a"
             ],
             [
              0.8888888888888888,
              "#fdca26"
             ],
             [
              1,
              "#f0f921"
             ]
            ],
            "type": "histogram2d"
           }
          ],
          "histogram2dcontour": [
           {
            "colorbar": {
             "outlinewidth": 0,
             "ticks": ""
            },
            "colorscale": [
             [
              0,
              "#0d0887"
             ],
             [
              0.1111111111111111,
              "#46039f"
             ],
             [
              0.2222222222222222,
              "#7201a8"
             ],
             [
              0.3333333333333333,
              "#9c179e"
             ],
             [
              0.4444444444444444,
              "#bd3786"
             ],
             [
              0.5555555555555556,
              "#d8576b"
             ],
             [
              0.6666666666666666,
              "#ed7953"
             ],
             [
              0.7777777777777778,
              "#fb9f3a"
             ],
             [
              0.8888888888888888,
              "#fdca26"
             ],
             [
              1,
              "#f0f921"
             ]
            ],
            "type": "histogram2dcontour"
           }
          ],
          "mesh3d": [
           {
            "colorbar": {
             "outlinewidth": 0,
             "ticks": ""
            },
            "type": "mesh3d"
           }
          ],
          "parcoords": [
           {
            "line": {
             "colorbar": {
              "outlinewidth": 0,
              "ticks": ""
             }
            },
            "type": "parcoords"
           }
          ],
          "pie": [
           {
            "automargin": true,
            "type": "pie"
           }
          ],
          "scatter": [
           {
            "fillpattern": {
             "fillmode": "overlay",
             "size": 10,
             "solidity": 0.2
            },
            "type": "scatter"
           }
          ],
          "scatter3d": [
           {
            "line": {
             "colorbar": {
              "outlinewidth": 0,
              "ticks": ""
             }
            },
            "marker": {
             "colorbar": {
              "outlinewidth": 0,
              "ticks": ""
             }
            },
            "type": "scatter3d"
           }
          ],
          "scattercarpet": [
           {
            "marker": {
             "colorbar": {
              "outlinewidth": 0,
              "ticks": ""
             }
            },
            "type": "scattercarpet"
           }
          ],
          "scattergeo": [
           {
            "marker": {
             "colorbar": {
              "outlinewidth": 0,
              "ticks": ""
             }
            },
            "type": "scattergeo"
           }
          ],
          "scattergl": [
           {
            "marker": {
             "colorbar": {
              "outlinewidth": 0,
              "ticks": ""
             }
            },
            "type": "scattergl"
           }
          ],
          "scattermapbox": [
           {
            "marker": {
             "colorbar": {
              "outlinewidth": 0,
              "ticks": ""
             }
            },
            "type": "scattermapbox"
           }
          ],
          "scatterpolar": [
           {
            "marker": {
             "colorbar": {
              "outlinewidth": 0,
              "ticks": ""
             }
            },
            "type": "scatterpolar"
           }
          ],
          "scatterpolargl": [
           {
            "marker": {
             "colorbar": {
              "outlinewidth": 0,
              "ticks": ""
             }
            },
            "type": "scatterpolargl"
           }
          ],
          "scatterternary": [
           {
            "marker": {
             "colorbar": {
              "outlinewidth": 0,
              "ticks": ""
             }
            },
            "type": "scatterternary"
           }
          ],
          "surface": [
           {
            "colorbar": {
             "outlinewidth": 0,
             "ticks": ""
            },
            "colorscale": [
             [
              0,
              "#0d0887"
             ],
             [
              0.1111111111111111,
              "#46039f"
             ],
             [
              0.2222222222222222,
              "#7201a8"
             ],
             [
              0.3333333333333333,
              "#9c179e"
             ],
             [
              0.4444444444444444,
              "#bd3786"
             ],
             [
              0.5555555555555556,
              "#d8576b"
             ],
             [
              0.6666666666666666,
              "#ed7953"
             ],
             [
              0.7777777777777778,
              "#fb9f3a"
             ],
             [
              0.8888888888888888,
              "#fdca26"
             ],
             [
              1,
              "#f0f921"
             ]
            ],
            "type": "surface"
           }
          ],
          "table": [
           {
            "cells": {
             "fill": {
              "color": "#EBF0F8"
             },
             "line": {
              "color": "white"
             }
            },
            "header": {
             "fill": {
              "color": "#C8D4E3"
             },
             "line": {
              "color": "white"
             }
            },
            "type": "table"
           }
          ]
         },
         "layout": {
          "annotationdefaults": {
           "arrowcolor": "#2a3f5f",
           "arrowhead": 0,
           "arrowwidth": 1
          },
          "autotypenumbers": "strict",
          "coloraxis": {
           "colorbar": {
            "outlinewidth": 0,
            "ticks": ""
           }
          },
          "colorscale": {
           "diverging": [
            [
             0,
             "#8e0152"
            ],
            [
             0.1,
             "#c51b7d"
            ],
            [
             0.2,
             "#de77ae"
            ],
            [
             0.3,
             "#f1b6da"
            ],
            [
             0.4,
             "#fde0ef"
            ],
            [
             0.5,
             "#f7f7f7"
            ],
            [
             0.6,
             "#e6f5d0"
            ],
            [
             0.7,
             "#b8e186"
            ],
            [
             0.8,
             "#7fbc41"
            ],
            [
             0.9,
             "#4d9221"
            ],
            [
             1,
             "#276419"
            ]
           ],
           "sequential": [
            [
             0,
             "#0d0887"
            ],
            [
             0.1111111111111111,
             "#46039f"
            ],
            [
             0.2222222222222222,
             "#7201a8"
            ],
            [
             0.3333333333333333,
             "#9c179e"
            ],
            [
             0.4444444444444444,
             "#bd3786"
            ],
            [
             0.5555555555555556,
             "#d8576b"
            ],
            [
             0.6666666666666666,
             "#ed7953"
            ],
            [
             0.7777777777777778,
             "#fb9f3a"
            ],
            [
             0.8888888888888888,
             "#fdca26"
            ],
            [
             1,
             "#f0f921"
            ]
           ],
           "sequentialminus": [
            [
             0,
             "#0d0887"
            ],
            [
             0.1111111111111111,
             "#46039f"
            ],
            [
             0.2222222222222222,
             "#7201a8"
            ],
            [
             0.3333333333333333,
             "#9c179e"
            ],
            [
             0.4444444444444444,
             "#bd3786"
            ],
            [
             0.5555555555555556,
             "#d8576b"
            ],
            [
             0.6666666666666666,
             "#ed7953"
            ],
            [
             0.7777777777777778,
             "#fb9f3a"
            ],
            [
             0.8888888888888888,
             "#fdca26"
            ],
            [
             1,
             "#f0f921"
            ]
           ]
          },
          "colorway": [
           "#636efa",
           "#EF553B",
           "#00cc96",
           "#ab63fa",
           "#FFA15A",
           "#19d3f3",
           "#FF6692",
           "#B6E880",
           "#FF97FF",
           "#FECB52"
          ],
          "font": {
           "color": "#2a3f5f"
          },
          "geo": {
           "bgcolor": "white",
           "lakecolor": "white",
           "landcolor": "#E5ECF6",
           "showlakes": true,
           "showland": true,
           "subunitcolor": "white"
          },
          "hoverlabel": {
           "align": "left"
          },
          "hovermode": "closest",
          "mapbox": {
           "style": "light"
          },
          "paper_bgcolor": "white",
          "plot_bgcolor": "#E5ECF6",
          "polar": {
           "angularaxis": {
            "gridcolor": "white",
            "linecolor": "white",
            "ticks": ""
           },
           "bgcolor": "#E5ECF6",
           "radialaxis": {
            "gridcolor": "white",
            "linecolor": "white",
            "ticks": ""
           }
          },
          "scene": {
           "xaxis": {
            "backgroundcolor": "#E5ECF6",
            "gridcolor": "white",
            "gridwidth": 2,
            "linecolor": "white",
            "showbackground": true,
            "ticks": "",
            "zerolinecolor": "white"
           },
           "yaxis": {
            "backgroundcolor": "#E5ECF6",
            "gridcolor": "white",
            "gridwidth": 2,
            "linecolor": "white",
            "showbackground": true,
            "ticks": "",
            "zerolinecolor": "white"
           },
           "zaxis": {
            "backgroundcolor": "#E5ECF6",
            "gridcolor": "white",
            "gridwidth": 2,
            "linecolor": "white",
            "showbackground": true,
            "ticks": "",
            "zerolinecolor": "white"
           }
          },
          "shapedefaults": {
           "line": {
            "color": "#2a3f5f"
           }
          },
          "ternary": {
           "aaxis": {
            "gridcolor": "white",
            "linecolor": "white",
            "ticks": ""
           },
           "baxis": {
            "gridcolor": "white",
            "linecolor": "white",
            "ticks": ""
           },
           "bgcolor": "#E5ECF6",
           "caxis": {
            "gridcolor": "white",
            "linecolor": "white",
            "ticks": ""
           }
          },
          "title": {
           "x": 0.05
          },
          "xaxis": {
           "automargin": true,
           "gridcolor": "white",
           "linecolor": "white",
           "ticks": "",
           "title": {
            "standoff": 15
           },
           "zerolinecolor": "white",
           "zerolinewidth": 2
          },
          "yaxis": {
           "automargin": true,
           "gridcolor": "white",
           "linecolor": "white",
           "ticks": "",
           "title": {
            "standoff": 15
           },
           "zerolinecolor": "white",
           "zerolinewidth": 2
          }
         }
        },
        "xaxis": {
         "anchor": "y",
         "domain": [
          0,
          1
         ],
         "title": {
          "text": "Year"
         }
        },
        "yaxis": {
         "anchor": "x",
         "domain": [
          0,
          1
         ],
         "title": {
          "text": "share"
         }
        }
       }
      }
     },
     "metadata": {},
     "output_type": "display_data"
    }
   ],
   "source": [
    "import plotly.express as px\n",
    "import nbformat\n",
    "fig = px.bar(df_w_others, x=\"Year\", y=\"share\", color='Entity', text_auto='.2%')\n",
    "fig.show()"
   ]
  },
  {
   "cell_type": "code",
   "execution_count": 20,
   "metadata": {},
   "outputs": [
    {
     "data": {
      "application/vnd.plotly.v1+json": {
       "config": {
        "plotlyServerURL": "https://plot.ly"
       },
       "data": [
        {
         "legendgroup": "Client 1",
         "marker": {
          "color": "red"
         },
         "name": "Client 1",
         "showlegend": true,
         "type": "bar",
         "x": [
          "2018-01"
         ],
         "y": [
          10
         ]
        },
        {
         "legendgroup": "Client 2",
         "marker": {
          "color": "blue"
         },
         "name": "Client 2",
         "showlegend": true,
         "type": "bar",
         "x": [
          "2018-01"
         ],
         "y": [
          12
         ]
        },
        {
         "legendgroup": "Client 3",
         "marker": {
          "color": "green"
         },
         "name": "Client 3",
         "showlegend": true,
         "type": "bar",
         "x": [
          "2018-01"
         ],
         "y": [
          18
         ]
        },
        {
         "legendgroup": "Client 3",
         "marker": {
          "color": "green"
         },
         "name": "Client 3",
         "showlegend": false,
         "type": "bar",
         "x": [
          "2018-02"
         ],
         "y": [
          2
         ]
        },
        {
         "legendgroup": "Client 2",
         "marker": {
          "color": "blue"
         },
         "name": "Client 2",
         "showlegend": false,
         "type": "bar",
         "x": [
          "2018-02"
         ],
         "y": [
          7
         ]
        },
        {
         "legendgroup": "Client 1",
         "marker": {
          "color": "red"
         },
         "name": "Client 1",
         "showlegend": false,
         "type": "bar",
         "x": [
          "2018-02"
         ],
         "y": [
          15
         ]
        },
        {
         "legendgroup": "Client 1",
         "marker": {
          "color": "red"
         },
         "name": "Client 1",
         "showlegend": false,
         "type": "bar",
         "x": [
          "2018-03"
         ],
         "y": [
          3
         ]
        },
        {
         "legendgroup": "Client 3",
         "marker": {
          "color": "green"
         },
         "name": "Client 3",
         "showlegend": false,
         "type": "bar",
         "x": [
          "2018-03"
         ],
         "y": [
          7
         ]
        },
        {
         "legendgroup": "Client 2",
         "marker": {
          "color": "blue"
         },
         "name": "Client 2",
         "showlegend": false,
         "type": "bar",
         "x": [
          "2018-03"
         ],
         "y": [
          14
         ]
        }
       ],
       "layout": {
        "barmode": "stack",
        "template": {
         "data": {
          "bar": [
           {
            "error_x": {
             "color": "#2a3f5f"
            },
            "error_y": {
             "color": "#2a3f5f"
            },
            "marker": {
             "line": {
              "color": "#E5ECF6",
              "width": 0.5
             },
             "pattern": {
              "fillmode": "overlay",
              "size": 10,
              "solidity": 0.2
             }
            },
            "type": "bar"
           }
          ],
          "barpolar": [
           {
            "marker": {
             "line": {
              "color": "#E5ECF6",
              "width": 0.5
             },
             "pattern": {
              "fillmode": "overlay",
              "size": 10,
              "solidity": 0.2
             }
            },
            "type": "barpolar"
           }
          ],
          "carpet": [
           {
            "aaxis": {
             "endlinecolor": "#2a3f5f",
             "gridcolor": "white",
             "linecolor": "white",
             "minorgridcolor": "white",
             "startlinecolor": "#2a3f5f"
            },
            "baxis": {
             "endlinecolor": "#2a3f5f",
             "gridcolor": "white",
             "linecolor": "white",
             "minorgridcolor": "white",
             "startlinecolor": "#2a3f5f"
            },
            "type": "carpet"
           }
          ],
          "choropleth": [
           {
            "colorbar": {
             "outlinewidth": 0,
             "ticks": ""
            },
            "type": "choropleth"
           }
          ],
          "contour": [
           {
            "colorbar": {
             "outlinewidth": 0,
             "ticks": ""
            },
            "colorscale": [
             [
              0,
              "#0d0887"
             ],
             [
              0.1111111111111111,
              "#46039f"
             ],
             [
              0.2222222222222222,
              "#7201a8"
             ],
             [
              0.3333333333333333,
              "#9c179e"
             ],
             [
              0.4444444444444444,
              "#bd3786"
             ],
             [
              0.5555555555555556,
              "#d8576b"
             ],
             [
              0.6666666666666666,
              "#ed7953"
             ],
             [
              0.7777777777777778,
              "#fb9f3a"
             ],
             [
              0.8888888888888888,
              "#fdca26"
             ],
             [
              1,
              "#f0f921"
             ]
            ],
            "type": "contour"
           }
          ],
          "contourcarpet": [
           {
            "colorbar": {
             "outlinewidth": 0,
             "ticks": ""
            },
            "type": "contourcarpet"
           }
          ],
          "heatmap": [
           {
            "colorbar": {
             "outlinewidth": 0,
             "ticks": ""
            },
            "colorscale": [
             [
              0,
              "#0d0887"
             ],
             [
              0.1111111111111111,
              "#46039f"
             ],
             [
              0.2222222222222222,
              "#7201a8"
             ],
             [
              0.3333333333333333,
              "#9c179e"
             ],
             [
              0.4444444444444444,
              "#bd3786"
             ],
             [
              0.5555555555555556,
              "#d8576b"
             ],
             [
              0.6666666666666666,
              "#ed7953"
             ],
             [
              0.7777777777777778,
              "#fb9f3a"
             ],
             [
              0.8888888888888888,
              "#fdca26"
             ],
             [
              1,
              "#f0f921"
             ]
            ],
            "type": "heatmap"
           }
          ],
          "heatmapgl": [
           {
            "colorbar": {
             "outlinewidth": 0,
             "ticks": ""
            },
            "colorscale": [
             [
              0,
              "#0d0887"
             ],
             [
              0.1111111111111111,
              "#46039f"
             ],
             [
              0.2222222222222222,
              "#7201a8"
             ],
             [
              0.3333333333333333,
              "#9c179e"
             ],
             [
              0.4444444444444444,
              "#bd3786"
             ],
             [
              0.5555555555555556,
              "#d8576b"
             ],
             [
              0.6666666666666666,
              "#ed7953"
             ],
             [
              0.7777777777777778,
              "#fb9f3a"
             ],
             [
              0.8888888888888888,
              "#fdca26"
             ],
             [
              1,
              "#f0f921"
             ]
            ],
            "type": "heatmapgl"
           }
          ],
          "histogram": [
           {
            "marker": {
             "pattern": {
              "fillmode": "overlay",
              "size": 10,
              "solidity": 0.2
             }
            },
            "type": "histogram"
           }
          ],
          "histogram2d": [
           {
            "colorbar": {
             "outlinewidth": 0,
             "ticks": ""
            },
            "colorscale": [
             [
              0,
              "#0d0887"
             ],
             [
              0.1111111111111111,
              "#46039f"
             ],
             [
              0.2222222222222222,
              "#7201a8"
             ],
             [
              0.3333333333333333,
              "#9c179e"
             ],
             [
              0.4444444444444444,
              "#bd3786"
             ],
             [
              0.5555555555555556,
              "#d8576b"
             ],
             [
              0.6666666666666666,
              "#ed7953"
             ],
             [
              0.7777777777777778,
              "#fb9f3a"
             ],
             [
              0.8888888888888888,
              "#fdca26"
             ],
             [
              1,
              "#f0f921"
             ]
            ],
            "type": "histogram2d"
           }
          ],
          "histogram2dcontour": [
           {
            "colorbar": {
             "outlinewidth": 0,
             "ticks": ""
            },
            "colorscale": [
             [
              0,
              "#0d0887"
             ],
             [
              0.1111111111111111,
              "#46039f"
             ],
             [
              0.2222222222222222,
              "#7201a8"
             ],
             [
              0.3333333333333333,
              "#9c179e"
             ],
             [
              0.4444444444444444,
              "#bd3786"
             ],
             [
              0.5555555555555556,
              "#d8576b"
             ],
             [
              0.6666666666666666,
              "#ed7953"
             ],
             [
              0.7777777777777778,
              "#fb9f3a"
             ],
             [
              0.8888888888888888,
              "#fdca26"
             ],
             [
              1,
              "#f0f921"
             ]
            ],
            "type": "histogram2dcontour"
           }
          ],
          "mesh3d": [
           {
            "colorbar": {
             "outlinewidth": 0,
             "ticks": ""
            },
            "type": "mesh3d"
           }
          ],
          "parcoords": [
           {
            "line": {
             "colorbar": {
              "outlinewidth": 0,
              "ticks": ""
             }
            },
            "type": "parcoords"
           }
          ],
          "pie": [
           {
            "automargin": true,
            "type": "pie"
           }
          ],
          "scatter": [
           {
            "fillpattern": {
             "fillmode": "overlay",
             "size": 10,
             "solidity": 0.2
            },
            "type": "scatter"
           }
          ],
          "scatter3d": [
           {
            "line": {
             "colorbar": {
              "outlinewidth": 0,
              "ticks": ""
             }
            },
            "marker": {
             "colorbar": {
              "outlinewidth": 0,
              "ticks": ""
             }
            },
            "type": "scatter3d"
           }
          ],
          "scattercarpet": [
           {
            "marker": {
             "colorbar": {
              "outlinewidth": 0,
              "ticks": ""
             }
            },
            "type": "scattercarpet"
           }
          ],
          "scattergeo": [
           {
            "marker": {
             "colorbar": {
              "outlinewidth": 0,
              "ticks": ""
             }
            },
            "type": "scattergeo"
           }
          ],
          "scattergl": [
           {
            "marker": {
             "colorbar": {
              "outlinewidth": 0,
              "ticks": ""
             }
            },
            "type": "scattergl"
           }
          ],
          "scattermapbox": [
           {
            "marker": {
             "colorbar": {
              "outlinewidth": 0,
              "ticks": ""
             }
            },
            "type": "scattermapbox"
           }
          ],
          "scatterpolar": [
           {
            "marker": {
             "colorbar": {
              "outlinewidth": 0,
              "ticks": ""
             }
            },
            "type": "scatterpolar"
           }
          ],
          "scatterpolargl": [
           {
            "marker": {
             "colorbar": {
              "outlinewidth": 0,
              "ticks": ""
             }
            },
            "type": "scatterpolargl"
           }
          ],
          "scatterternary": [
           {
            "marker": {
             "colorbar": {
              "outlinewidth": 0,
              "ticks": ""
             }
            },
            "type": "scatterternary"
           }
          ],
          "surface": [
           {
            "colorbar": {
             "outlinewidth": 0,
             "ticks": ""
            },
            "colorscale": [
             [
              0,
              "#0d0887"
             ],
             [
              0.1111111111111111,
              "#46039f"
             ],
             [
              0.2222222222222222,
              "#7201a8"
             ],
             [
              0.3333333333333333,
              "#9c179e"
             ],
             [
              0.4444444444444444,
              "#bd3786"
             ],
             [
              0.5555555555555556,
              "#d8576b"
             ],
             [
              0.6666666666666666,
              "#ed7953"
             ],
             [
              0.7777777777777778,
              "#fb9f3a"
             ],
             [
              0.8888888888888888,
              "#fdca26"
             ],
             [
              1,
              "#f0f921"
             ]
            ],
            "type": "surface"
           }
          ],
          "table": [
           {
            "cells": {
             "fill": {
              "color": "#EBF0F8"
             },
             "line": {
              "color": "white"
             }
            },
            "header": {
             "fill": {
              "color": "#C8D4E3"
             },
             "line": {
              "color": "white"
             }
            },
            "type": "table"
           }
          ]
         },
         "layout": {
          "annotationdefaults": {
           "arrowcolor": "#2a3f5f",
           "arrowhead": 0,
           "arrowwidth": 1
          },
          "autotypenumbers": "strict",
          "coloraxis": {
           "colorbar": {
            "outlinewidth": 0,
            "ticks": ""
           }
          },
          "colorscale": {
           "diverging": [
            [
             0,
             "#8e0152"
            ],
            [
             0.1,
             "#c51b7d"
            ],
            [
             0.2,
             "#de77ae"
            ],
            [
             0.3,
             "#f1b6da"
            ],
            [
             0.4,
             "#fde0ef"
            ],
            [
             0.5,
             "#f7f7f7"
            ],
            [
             0.6,
             "#e6f5d0"
            ],
            [
             0.7,
             "#b8e186"
            ],
            [
             0.8,
             "#7fbc41"
            ],
            [
             0.9,
             "#4d9221"
            ],
            [
             1,
             "#276419"
            ]
           ],
           "sequential": [
            [
             0,
             "#0d0887"
            ],
            [
             0.1111111111111111,
             "#46039f"
            ],
            [
             0.2222222222222222,
             "#7201a8"
            ],
            [
             0.3333333333333333,
             "#9c179e"
            ],
            [
             0.4444444444444444,
             "#bd3786"
            ],
            [
             0.5555555555555556,
             "#d8576b"
            ],
            [
             0.6666666666666666,
             "#ed7953"
            ],
            [
             0.7777777777777778,
             "#fb9f3a"
            ],
            [
             0.8888888888888888,
             "#fdca26"
            ],
            [
             1,
             "#f0f921"
            ]
           ],
           "sequentialminus": [
            [
             0,
             "#0d0887"
            ],
            [
             0.1111111111111111,
             "#46039f"
            ],
            [
             0.2222222222222222,
             "#7201a8"
            ],
            [
             0.3333333333333333,
             "#9c179e"
            ],
            [
             0.4444444444444444,
             "#bd3786"
            ],
            [
             0.5555555555555556,
             "#d8576b"
            ],
            [
             0.6666666666666666,
             "#ed7953"
            ],
            [
             0.7777777777777778,
             "#fb9f3a"
            ],
            [
             0.8888888888888888,
             "#fdca26"
            ],
            [
             1,
             "#f0f921"
            ]
           ]
          },
          "colorway": [
           "#636efa",
           "#EF553B",
           "#00cc96",
           "#ab63fa",
           "#FFA15A",
           "#19d3f3",
           "#FF6692",
           "#B6E880",
           "#FF97FF",
           "#FECB52"
          ],
          "font": {
           "color": "#2a3f5f"
          },
          "geo": {
           "bgcolor": "white",
           "lakecolor": "white",
           "landcolor": "#E5ECF6",
           "showlakes": true,
           "showland": true,
           "subunitcolor": "white"
          },
          "hoverlabel": {
           "align": "left"
          },
          "hovermode": "closest",
          "mapbox": {
           "style": "light"
          },
          "paper_bgcolor": "white",
          "plot_bgcolor": "#E5ECF6",
          "polar": {
           "angularaxis": {
            "gridcolor": "white",
            "linecolor": "white",
            "ticks": ""
           },
           "bgcolor": "#E5ECF6",
           "radialaxis": {
            "gridcolor": "white",
            "linecolor": "white",
            "ticks": ""
           }
          },
          "scene": {
           "xaxis": {
            "backgroundcolor": "#E5ECF6",
            "gridcolor": "white",
            "gridwidth": 2,
            "linecolor": "white",
            "showbackground": true,
            "ticks": "",
            "zerolinecolor": "white"
           },
           "yaxis": {
            "backgroundcolor": "#E5ECF6",
            "gridcolor": "white",
            "gridwidth": 2,
            "linecolor": "white",
            "showbackground": true,
            "ticks": "",
            "zerolinecolor": "white"
           },
           "zaxis": {
            "backgroundcolor": "#E5ECF6",
            "gridcolor": "white",
            "gridwidth": 2,
            "linecolor": "white",
            "showbackground": true,
            "ticks": "",
            "zerolinecolor": "white"
           }
          },
          "shapedefaults": {
           "line": {
            "color": "#2a3f5f"
           }
          },
          "ternary": {
           "aaxis": {
            "gridcolor": "white",
            "linecolor": "white",
            "ticks": ""
           },
           "baxis": {
            "gridcolor": "white",
            "linecolor": "white",
            "ticks": ""
           },
           "bgcolor": "#E5ECF6",
           "caxis": {
            "gridcolor": "white",
            "linecolor": "white",
            "ticks": ""
           }
          },
          "title": {
           "x": 0.05
          },
          "xaxis": {
           "automargin": true,
           "gridcolor": "white",
           "linecolor": "white",
           "ticks": "",
           "title": {
            "standoff": 15
           },
           "zerolinecolor": "white",
           "zerolinewidth": 2
          },
          "yaxis": {
           "automargin": true,
           "gridcolor": "white",
           "linecolor": "white",
           "ticks": "",
           "title": {
            "standoff": 15
           },
           "zerolinecolor": "white",
           "zerolinewidth": 2
          }
         }
        },
        "xaxis": {
         "title": {
          "text": "month"
         },
         "type": "category"
        },
        "yaxis": {
         "title": {
          "text": "amount"
         }
        }
       }
      }
     },
     "metadata": {},
     "output_type": "display_data"
    }
   ],
   "source": [
    "import plotly.graph_objects as go\n",
    "import pandas as pd\n",
    "import numpy as np\n",
    "\n",
    "# data\n",
    "df = pd.DataFrame({'Date': ['2018-01', '2018-02', '2018-03'],\n",
    "                   'Client 1': [10, 15, 3],\n",
    "                   'Client 2': [12, 7, 14],\n",
    "                   'Client 3': [18, 2, 7]})\n",
    "\n",
    "# colors\n",
    "colors = {'Client 1': 'red',\n",
    "          'Client 2': 'blue',\n",
    "          'Client 3': 'green'}\n",
    "\n",
    "# traces\n",
    "data = []\n",
    "\n",
    "# loop across the different rows\n",
    "for i in range(df.shape[0]):\n",
    "\n",
    "    # for each row, order the columns based on\n",
    "    # their values from smallest to largest\n",
    "    ordered_columns = df.columns[1:][np.argsort(df.iloc[i, 1:].values)]\n",
    "\n",
    "    # add a separate trace for each column,\n",
    "    # ordered from smallest to largest\n",
    "    for column in ordered_columns:\n",
    "\n",
    "        data.append(go.Bar(x=[df['Date'][i]],\n",
    "                           y=[df[column][i]],\n",
    "                           marker=dict(color=colors[column]),\n",
    "                           name=column,\n",
    "                           legendgroup=column,\n",
    "                           showlegend=i == 0)) # show the legend only once for each column\n",
    "\n",
    "# layout\n",
    "layout = dict(barmode='stack',\n",
    "              yaxis={'title': 'amount'},\n",
    "              xaxis={'type': 'category', 'title': 'month'})\n",
    "\n",
    "# figure\n",
    "fig = go.Figure(data=data, layout=layout)\n",
    "\n",
    "fig.show()"
   ]
  },
  {
   "cell_type": "code",
   "execution_count": 105,
   "metadata": {},
   "outputs": [
    {
     "name": "stdout",
     "output_type": "stream",
     "text": [
      "Index(['Ryanair Group', 'Air France Group', 'easyJet Group',\n",
      "       'Turkish Airlines', 'Lufthansa Airlines', 'Others'],\n",
      "      dtype='object', name='Entity')\n",
      "Index(['Ryanair Group', 'Air France Group', 'easyJet Group',\n",
      "       'Turkish Airlines', 'Lufthansa Airlines', 'Others'],\n",
      "      dtype='object', name='Entity')\n",
      "Index(['Ryanair Group', 'Air France Group', 'easyJet Group',\n",
      "       'Turkish Airlines', 'Lufthansa Airlines', 'Others'],\n",
      "      dtype='object', name='Entity')\n",
      "Index(['Ryanair Group', 'Air France Group', 'easyJet Group',\n",
      "       'Turkish Airlines', 'Lufthansa Airlines', 'Others'],\n",
      "      dtype='object', name='Entity')\n"
     ]
    },
    {
     "ename": "ValueError",
     "evalue": "Invalid property specified for object of type plotly.graph_objs.Layout: 'colorbar'\n\nDid you mean \"colorway\"?\n\n    Valid properties:\n        activeselection\n            :class:`plotly.graph_objects.layout.Activeselection`\n            instance or dict with compatible properties\n        activeshape\n            :class:`plotly.graph_objects.layout.Activeshape`\n            instance or dict with compatible properties\n        annotations\n            A tuple of\n            :class:`plotly.graph_objects.layout.Annotation`\n            instances or dicts with compatible properties\n        annotationdefaults\n            When used in a template (as\n            layout.template.layout.annotationdefaults), sets the\n            default property values to use for elements of\n            layout.annotations\n        autosize\n            Determines whether or not a layout width or height that\n            has been left undefined by the user is initialized on\n            each relayout. Note that, regardless of this attribute,\n            an undefined layout width or height is always\n            initialized on the first call to plot.\n        autotypenumbers\n            Using \"strict\" a numeric string in trace data is not\n            converted to a number. Using *convert types* a numeric\n            string in trace data may be treated as a number during\n            automatic axis `type` detection. This is the default\n            value; however it could be overridden for individual\n            axes.\n        bargap\n            Sets the gap (in plot fraction) between bars of\n            adjacent location coordinates.\n        bargroupgap\n            Sets the gap (in plot fraction) between bars of the\n            same location coordinate.\n        barmode\n            Determines how bars at the same location coordinate are\n            displayed on the graph. With \"stack\", the bars are\n            stacked on top of one another With \"relative\", the bars\n            are stacked on top of one another, with negative values\n            below the axis, positive values above With \"group\", the\n            bars are plotted next to one another centered around\n            the shared location. With \"overlay\", the bars are\n            plotted over one another, you might need to reduce\n            \"opacity\" to see multiple bars.\n        barnorm\n            Sets the normalization for bar traces on the graph.\n            With \"fraction\", the value of each bar is divided by\n            the sum of all values at that location coordinate.\n            \"percent\" is the same but multiplied by 100 to show\n            percentages.\n        boxgap\n            Sets the gap (in plot fraction) between boxes of\n            adjacent location coordinates. Has no effect on traces\n            that have \"width\" set.\n        boxgroupgap\n            Sets the gap (in plot fraction) between boxes of the\n            same location coordinate. Has no effect on traces that\n            have \"width\" set.\n        boxmode\n            Determines how boxes at the same location coordinate\n            are displayed on the graph. If \"group\", the boxes are\n            plotted next to one another centered around the shared\n            location. If \"overlay\", the boxes are plotted over one\n            another, you might need to set \"opacity\" to see them\n            multiple boxes. Has no effect on traces that have\n            \"width\" set.\n        calendar\n            Sets the default calendar system to use for\n            interpreting and displaying dates throughout the plot.\n        clickmode\n            Determines the mode of single click interactions.\n            \"event\" is the default value and emits the\n            `plotly_click` event. In addition this mode emits the\n            `plotly_selected` event in drag modes \"lasso\" and\n            \"select\", but with no event data attached (kept for\n            compatibility reasons). The \"select\" flag enables\n            selecting single data points via click. This mode also\n            supports persistent selections, meaning that pressing\n            Shift while clicking, adds to / subtracts from an\n            existing selection. \"select\" with `hovermode`: \"x\" can\n            be confusing, consider explicitly setting `hovermode`:\n            \"closest\" when using this feature. Selection events are\n            sent accordingly as long as \"event\" flag is set as\n            well. When the \"event\" flag is missing, `plotly_click`\n            and `plotly_selected` events are not fired.\n        coloraxis\n            :class:`plotly.graph_objects.layout.Coloraxis` instance\n            or dict with compatible properties\n        colorscale\n            :class:`plotly.graph_objects.layout.Colorscale`\n            instance or dict with compatible properties\n        colorway\n            Sets the default trace colors.\n        computed\n            Placeholder for exporting automargin-impacting values\n            namely `margin.t`, `margin.b`, `margin.l` and\n            `margin.r` in \"full-json\" mode.\n        datarevision\n            If provided, a changed value tells `Plotly.react` that\n            one or more data arrays has changed. This way you can\n            modify arrays in-place rather than making a complete\n            new copy for an incremental change. If NOT provided,\n            `Plotly.react` assumes that data arrays are being\n            treated as immutable, thus any data array with a\n            different identity from its predecessor contains new\n            data.\n        dragmode\n            Determines the mode of drag interactions. \"select\" and\n            \"lasso\" apply only to scatter traces with markers or\n            text. \"orbit\" and \"turntable\" apply only to 3D scenes.\n        editrevision\n            Controls persistence of user-driven changes in\n            `editable: true` configuration, other than trace names\n            and axis titles. Defaults to `layout.uirevision`.\n        extendfunnelareacolors\n            If `true`, the funnelarea slice colors (whether given\n            by `funnelareacolorway` or inherited from `colorway`)\n            will be extended to three times its original length by\n            first repeating every color 20% lighter then each color\n            20% darker. This is intended to reduce the likelihood\n            of reusing the same color when you have many slices,\n            but you can set `false` to disable. Colors provided in\n            the trace, using `marker.colors`, are never extended.\n        extendiciclecolors\n            If `true`, the icicle slice colors (whether given by\n            `iciclecolorway` or inherited from `colorway`) will be\n            extended to three times its original length by first\n            repeating every color 20% lighter then each color 20%\n            darker. This is intended to reduce the likelihood of\n            reusing the same color when you have many slices, but\n            you can set `false` to disable. Colors provided in the\n            trace, using `marker.colors`, are never extended.\n        extendpiecolors\n            If `true`, the pie slice colors (whether given by\n            `piecolorway` or inherited from `colorway`) will be\n            extended to three times its original length by first\n            repeating every color 20% lighter then each color 20%\n            darker. This is intended to reduce the likelihood of\n            reusing the same color when you have many slices, but\n            you can set `false` to disable. Colors provided in the\n            trace, using `marker.colors`, are never extended.\n        extendsunburstcolors\n            If `true`, the sunburst slice colors (whether given by\n            `sunburstcolorway` or inherited from `colorway`) will\n            be extended to three times its original length by first\n            repeating every color 20% lighter then each color 20%\n            darker. This is intended to reduce the likelihood of\n            reusing the same color when you have many slices, but\n            you can set `false` to disable. Colors provided in the\n            trace, using `marker.colors`, are never extended.\n        extendtreemapcolors\n            If `true`, the treemap slice colors (whether given by\n            `treemapcolorway` or inherited from `colorway`) will be\n            extended to three times its original length by first\n            repeating every color 20% lighter then each color 20%\n            darker. This is intended to reduce the likelihood of\n            reusing the same color when you have many slices, but\n            you can set `false` to disable. Colors provided in the\n            trace, using `marker.colors`, are never extended.\n        font\n            Sets the global font. Note that fonts used in traces\n            and other layout components inherit from the global\n            font.\n        funnelareacolorway\n            Sets the default funnelarea slice colors. Defaults to\n            the main `colorway` used for trace colors. If you\n            specify a new list here it can still be extended with\n            lighter and darker colors, see\n            `extendfunnelareacolors`.\n        funnelgap\n            Sets the gap (in plot fraction) between bars of\n            adjacent location coordinates.\n        funnelgroupgap\n            Sets the gap (in plot fraction) between bars of the\n            same location coordinate.\n        funnelmode\n            Determines how bars at the same location coordinate are\n            displayed on the graph. With \"stack\", the bars are\n            stacked on top of one another With \"group\", the bars\n            are plotted next to one another centered around the\n            shared location. With \"overlay\", the bars are plotted\n            over one another, you might need to reduce \"opacity\" to\n            see multiple bars.\n        geo\n            :class:`plotly.graph_objects.layout.Geo` instance or\n            dict with compatible properties\n        grid\n            :class:`plotly.graph_objects.layout.Grid` instance or\n            dict with compatible properties\n        height\n            Sets the plot's height (in px).\n        hiddenlabels\n            hiddenlabels is the funnelarea & pie chart analog of\n            visible:'legendonly' but it can contain many labels,\n            and can simultaneously hide slices from several\n            pies/funnelarea charts\n        hiddenlabelssrc\n            Sets the source reference on Chart Studio Cloud for\n            `hiddenlabels`.\n        hidesources\n            Determines whether or not a text link citing the data\n            source is placed at the bottom-right cored of the\n            figure. Has only an effect only on graphs that have\n            been generated via forked graphs from the Chart Studio\n            Cloud (at https://chart-studio.plotly.com or on-\n            premise).\n        hoverdistance\n            Sets the default distance (in pixels) to look for data\n            to add hover labels (-1 means no cutoff, 0 means no\n            looking for data). This is only a real distance for\n            hovering on point-like objects, like scatter points.\n            For area-like objects (bars, scatter fills, etc)\n            hovering is on inside the area and off outside, but\n            these objects will not supersede hover on point-like\n            objects in case of conflict.\n        hoverlabel\n            :class:`plotly.graph_objects.layout.Hoverlabel`\n            instance or dict with compatible properties\n        hovermode\n            Determines the mode of hover interactions. If\n            \"closest\", a single hoverlabel will appear for the\n            \"closest\" point within the `hoverdistance`. If \"x\" (or\n            \"y\"), multiple hoverlabels will appear for multiple\n            points at the \"closest\" x- (or y-) coordinate within\n            the `hoverdistance`, with the caveat that no more than\n            one hoverlabel will appear per trace. If *x unified*\n            (or *y unified*), a single hoverlabel will appear\n            multiple points at the closest x- (or y-) coordinate\n            within the `hoverdistance` with the caveat that no more\n            than one hoverlabel will appear per trace. In this\n            mode, spikelines are enabled by default perpendicular\n            to the specified axis. If false, hover interactions are\n            disabled.\n        iciclecolorway\n            Sets the default icicle slice colors. Defaults to the\n            main `colorway` used for trace colors. If you specify a\n            new list here it can still be extended with lighter and\n            darker colors, see `extendiciclecolors`.\n        images\n            A tuple of :class:`plotly.graph_objects.layout.Image`\n            instances or dicts with compatible properties\n        imagedefaults\n            When used in a template (as\n            layout.template.layout.imagedefaults), sets the default\n            property values to use for elements of layout.images\n        legend\n            :class:`plotly.graph_objects.layout.Legend` instance or\n            dict with compatible properties\n        mapbox\n            :class:`plotly.graph_objects.layout.Mapbox` instance or\n            dict with compatible properties\n        margin\n            :class:`plotly.graph_objects.layout.Margin` instance or\n            dict with compatible properties\n        meta\n            Assigns extra meta information that can be used in\n            various `text` attributes. Attributes such as the\n            graph, axis and colorbar `title.text`, annotation\n            `text` `trace.name` in legend items, `rangeselector`,\n            `updatemenus` and `sliders` `label` text all support\n            `meta`. One can access `meta` fields using template\n            strings: `%{meta[i]}` where `i` is the index of the\n            `meta` item in question. `meta` can also be an object\n            for example `{key: value}` which can be accessed\n            %{meta[key]}.\n        metasrc\n            Sets the source reference on Chart Studio Cloud for\n            `meta`.\n        minreducedheight\n            Minimum height of the plot with margin.automargin\n            applied (in px)\n        minreducedwidth\n            Minimum width of the plot with margin.automargin\n            applied (in px)\n        modebar\n            :class:`plotly.graph_objects.layout.Modebar` instance\n            or dict with compatible properties\n        newselection\n            :class:`plotly.graph_objects.layout.Newselection`\n            instance or dict with compatible properties\n        newshape\n            :class:`plotly.graph_objects.layout.Newshape` instance\n            or dict with compatible properties\n        paper_bgcolor\n            Sets the background color of the paper where the graph\n            is drawn.\n        piecolorway\n            Sets the default pie slice colors. Defaults to the main\n            `colorway` used for trace colors. If you specify a new\n            list here it can still be extended with lighter and\n            darker colors, see `extendpiecolors`.\n        plot_bgcolor\n            Sets the background color of the plotting area in-\n            between x and y axes.\n        polar\n            :class:`plotly.graph_objects.layout.Polar` instance or\n            dict with compatible properties\n        scattergap\n            Sets the gap (in plot fraction) between scatter points\n            of adjacent location coordinates. Defaults to `bargap`.\n        scattermode\n            Determines how scatter points at the same location\n            coordinate are displayed on the graph. With \"group\",\n            the scatter points are plotted next to one another\n            centered around the shared location. With \"overlay\",\n            the scatter points are plotted over one another, you\n            might need to reduce \"opacity\" to see multiple scatter\n            points.\n        scene\n            :class:`plotly.graph_objects.layout.Scene` instance or\n            dict with compatible properties\n        selectdirection\n            When `dragmode` is set to \"select\", this limits the\n            selection of the drag to horizontal, vertical or\n            diagonal. \"h\" only allows horizontal selection, \"v\"\n            only vertical, \"d\" only diagonal and \"any\" sets no\n            limit.\n        selectionrevision\n            Controls persistence of user-driven changes in selected\n            points from all traces.\n        selections\n            A tuple of\n            :class:`plotly.graph_objects.layout.Selection`\n            instances or dicts with compatible properties\n        selectiondefaults\n            When used in a template (as\n            layout.template.layout.selectiondefaults), sets the\n            default property values to use for elements of\n            layout.selections\n        separators\n            Sets the decimal and thousand separators. For example,\n            *. * puts a '.' before decimals and a space between\n            thousands. In English locales, dflt is \".,\" but other\n            locales may alter this default.\n        shapes\n            A tuple of :class:`plotly.graph_objects.layout.Shape`\n            instances or dicts with compatible properties\n        shapedefaults\n            When used in a template (as\n            layout.template.layout.shapedefaults), sets the default\n            property values to use for elements of layout.shapes\n        showlegend\n            Determines whether or not a legend is drawn. Default is\n            `true` if there is a trace to show and any of these: a)\n            Two or more traces would by default be shown in the\n            legend. b) One pie trace is shown in the legend. c) One\n            trace is explicitly given with `showlegend: true`.\n        sliders\n            A tuple of :class:`plotly.graph_objects.layout.Slider`\n            instances or dicts with compatible properties\n        sliderdefaults\n            When used in a template (as\n            layout.template.layout.sliderdefaults), sets the\n            default property values to use for elements of\n            layout.sliders\n        smith\n            :class:`plotly.graph_objects.layout.Smith` instance or\n            dict with compatible properties\n        spikedistance\n            Sets the default distance (in pixels) to look for data\n            to draw spikelines to (-1 means no cutoff, 0 means no\n            looking for data). As with hoverdistance, distance does\n            not apply to area-like objects. In addition, some\n            objects can be hovered on but will not generate\n            spikelines, such as scatter fills.\n        sunburstcolorway\n            Sets the default sunburst slice colors. Defaults to the\n            main `colorway` used for trace colors. If you specify a\n            new list here it can still be extended with lighter and\n            darker colors, see `extendsunburstcolors`.\n        template\n            Default attributes to be applied to the plot. This\n            should be a dict with format: `{'layout':\n            layoutTemplate, 'data': {trace_type: [traceTemplate,\n            ...], ...}}` where `layoutTemplate` is a dict matching\n            the structure of `figure.layout` and `traceTemplate` is\n            a dict matching the structure of the trace with type\n            `trace_type` (e.g. 'scatter'). Alternatively, this may\n            be specified as an instance of\n            plotly.graph_objs.layout.Template.  Trace templates are\n            applied cyclically to traces of each type. Container\n            arrays (eg `annotations`) have special handling: An\n            object ending in `defaults` (eg `annotationdefaults`)\n            is applied to each array item. But if an item has a\n            `templateitemname` key we look in the template array\n            for an item with matching `name` and apply that\n            instead. If no matching `name` is found we mark the\n            item invisible. Any named template item not referenced\n            is appended to the end of the array, so this can be\n            used to add a watermark annotation or a logo image, for\n            example. To omit one of these items on the plot, make\n            an item with matching `templateitemname` and `visible:\n            false`.\n        ternary\n            :class:`plotly.graph_objects.layout.Ternary` instance\n            or dict with compatible properties\n        title\n            :class:`plotly.graph_objects.layout.Title` instance or\n            dict with compatible properties\n        titlefont\n            Deprecated: Please use layout.title.font instead. Sets\n            the title font. Note that the title's font used to be\n            customized by the now deprecated `titlefont` attribute.\n        transition\n            Sets transition options used during Plotly.react\n            updates.\n        treemapcolorway\n            Sets the default treemap slice colors. Defaults to the\n            main `colorway` used for trace colors. If you specify a\n            new list here it can still be extended with lighter and\n            darker colors, see `extendtreemapcolors`.\n        uirevision\n            Used to allow user interactions with the plot to\n            persist after `Plotly.react` calls that are unaware of\n            these interactions. If `uirevision` is omitted, or if\n            it is given and it changed from the previous\n            `Plotly.react` call, the exact new figure is used. If\n            `uirevision` is truthy and did NOT change, any\n            attribute that has been affected by user interactions\n            and did not receive a different value in the new figure\n            will keep the interaction value. `layout.uirevision`\n            attribute serves as the default for `uirevision`\n            attributes in various sub-containers. For finer control\n            you can set these sub-attributes directly. For example,\n            if your app separately controls the data on the x and y\n            axes you might set `xaxis.uirevision=*time*` and\n            `yaxis.uirevision=*cost*`. Then if only the y data is\n            changed, you can update `yaxis.uirevision=*quantity*`\n            and the y axis range will reset but the x axis range\n            will retain any user-driven zoom.\n        uniformtext\n            :class:`plotly.graph_objects.layout.Uniformtext`\n            instance or dict with compatible properties\n        updatemenus\n            A tuple of\n            :class:`plotly.graph_objects.layout.Updatemenu`\n            instances or dicts with compatible properties\n        updatemenudefaults\n            When used in a template (as\n            layout.template.layout.updatemenudefaults), sets the\n            default property values to use for elements of\n            layout.updatemenus\n        violingap\n            Sets the gap (in plot fraction) between violins of\n            adjacent location coordinates. Has no effect on traces\n            that have \"width\" set.\n        violingroupgap\n            Sets the gap (in plot fraction) between violins of the\n            same location coordinate. Has no effect on traces that\n            have \"width\" set.\n        violinmode\n            Determines how violins at the same location coordinate\n            are displayed on the graph. If \"group\", the violins are\n            plotted next to one another centered around the shared\n            location. If \"overlay\", the violins are plotted over\n            one another, you might need to set \"opacity\" to see\n            them multiple violins. Has no effect on traces that\n            have \"width\" set.\n        waterfallgap\n            Sets the gap (in plot fraction) between bars of\n            adjacent location coordinates.\n        waterfallgroupgap\n            Sets the gap (in plot fraction) between bars of the\n            same location coordinate.\n        waterfallmode\n            Determines how bars at the same location coordinate are\n            displayed on the graph. With \"group\", the bars are\n            plotted next to one another centered around the shared\n            location. With \"overlay\", the bars are plotted over one\n            another, you might need to reduce \"opacity\" to see\n            multiple bars.\n        width\n            Sets the plot's width (in px).\n        xaxis\n            :class:`plotly.graph_objects.layout.XAxis` instance or\n            dict with compatible properties\n        yaxis\n            :class:`plotly.graph_objects.layout.YAxis` instance or\n            dict with compatible properties\n        \nDid you mean \"colorway\"?\n\nBad property path:\ncolorbar\n^^^^^^^^",
     "output_type": "error",
     "traceback": [
      "\u001b[1;31m---------------------------------------------------------------------------\u001b[0m",
      "\u001b[1;31mValueError\u001b[0m                                Traceback (most recent call last)",
      "Cell \u001b[1;32mIn[105], line 39\u001b[0m\n\u001b[0;32m     32\u001b[0m layout \u001b[39m=\u001b[39m \u001b[39mdict\u001b[39m(barmode\u001b[39m=\u001b[39m\u001b[39m'\u001b[39m\u001b[39mstack\u001b[39m\u001b[39m'\u001b[39m,\n\u001b[0;32m     33\u001b[0m               yaxis\u001b[39m=\u001b[39m{\u001b[39m'\u001b[39m\u001b[39mtitle\u001b[39m\u001b[39m'\u001b[39m: \u001b[39mNone\u001b[39;00m},\n\u001b[0;32m     34\u001b[0m               xaxis\u001b[39m=\u001b[39m{\u001b[39m'\u001b[39m\u001b[39mtype\u001b[39m\u001b[39m'\u001b[39m: \u001b[39m'\u001b[39m\u001b[39mcategory\u001b[39m\u001b[39m'\u001b[39m, \u001b[39m'\u001b[39m\u001b[39mtitle\u001b[39m\u001b[39m'\u001b[39m: \u001b[39m'\u001b[39m\u001b[39mYear\u001b[39m\u001b[39m'\u001b[39m},\n\u001b[0;32m     35\u001b[0m               colorbar\u001b[39m=\u001b[39m{\u001b[39m'\u001b[39m\u001b[39mcategoryorder\u001b[39m\u001b[39m'\u001b[39m:\u001b[39m'\u001b[39m\u001b[39marray\u001b[39m\u001b[39m'\u001b[39m,\n\u001b[0;32m     36\u001b[0m                      \u001b[39m'\u001b[39m\u001b[39mcategoryarray\u001b[39m\u001b[39m'\u001b[39m:[\u001b[39m'\u001b[39m\u001b[39mTurkish Airlines\u001b[39m\u001b[39m'\u001b[39m,\u001b[39m'\u001b[39m\u001b[39mRyanair Group\u001b[39m\u001b[39m'\u001b[39m,\u001b[39m'\u001b[39m\u001b[39mLufthansa Airlines\u001b[39m\u001b[39m'\u001b[39m,\u001b[39m'\u001b[39m\u001b[39mAir France Group\u001b[39m\u001b[39m'\u001b[39m,\u001b[39m'\u001b[39m\u001b[39measyJet Group\u001b[39m\u001b[39m'\u001b[39m,\u001b[39m'\u001b[39m\u001b[39mOthers\u001b[39m\u001b[39m'\u001b[39m]})\n\u001b[0;32m     38\u001b[0m \u001b[39m# figure\u001b[39;00m\n\u001b[1;32m---> 39\u001b[0m fig \u001b[39m=\u001b[39m go\u001b[39m.\u001b[39;49mFigure(data\u001b[39m=\u001b[39;49mdata, layout\u001b[39m=\u001b[39;49mlayout)\n\u001b[0;32m     40\u001b[0m fig\u001b[39m.\u001b[39mupdate_traces(texttemplate\u001b[39m=\u001b[39m\u001b[39m'\u001b[39m\u001b[39m%\u001b[39m\u001b[39m{text:.2%}\u001b[39;00m\u001b[39m'\u001b[39m)\n\u001b[0;32m     42\u001b[0m fig\u001b[39m.\u001b[39mshow()\n",
      "File \u001b[1;32mc:\\Users\\rafae\\AppData\\Local\\Programs\\Python\\Python311\\Lib\\site-packages\\plotly\\graph_objs\\_figure.py:629\u001b[0m, in \u001b[0;36mFigure.__init__\u001b[1;34m(self, data, layout, frames, skip_invalid, **kwargs)\u001b[0m\n\u001b[0;32m      5\u001b[0m \u001b[39mdef\u001b[39;00m \u001b[39m__init__\u001b[39m(\n\u001b[0;32m      6\u001b[0m     \u001b[39mself\u001b[39m, data\u001b[39m=\u001b[39m\u001b[39mNone\u001b[39;00m, layout\u001b[39m=\u001b[39m\u001b[39mNone\u001b[39;00m, frames\u001b[39m=\u001b[39m\u001b[39mNone\u001b[39;00m, skip_invalid\u001b[39m=\u001b[39m\u001b[39mFalse\u001b[39;00m, \u001b[39m*\u001b[39m\u001b[39m*\u001b[39mkwargs\n\u001b[0;32m      7\u001b[0m ):\n\u001b[0;32m      8\u001b[0m \u001b[39m    \u001b[39m\u001b[39m\"\"\"\u001b[39;00m\n\u001b[0;32m      9\u001b[0m \u001b[39m    Create a new :class:Figure instance\u001b[39;00m\n\u001b[0;32m     10\u001b[0m \n\u001b[1;32m   (...)\u001b[0m\n\u001b[0;32m    627\u001b[0m \u001b[39m        is invalid AND skip_invalid is False\u001b[39;00m\n\u001b[0;32m    628\u001b[0m \u001b[39m    \"\"\"\u001b[39;00m\n\u001b[1;32m--> 629\u001b[0m     \u001b[39msuper\u001b[39;49m(Figure, \u001b[39mself\u001b[39;49m)\u001b[39m.\u001b[39;49m\u001b[39m__init__\u001b[39;49m(data, layout, frames, skip_invalid, \u001b[39m*\u001b[39;49m\u001b[39m*\u001b[39;49mkwargs)\n",
      "File \u001b[1;32mc:\\Users\\rafae\\AppData\\Local\\Programs\\Python\\Python311\\Lib\\site-packages\\plotly\\basedatatypes.py:557\u001b[0m, in \u001b[0;36mBaseFigure.__init__\u001b[1;34m(self, data, layout_plotly, frames, skip_invalid, **kwargs)\u001b[0m\n\u001b[0;32m    554\u001b[0m \u001b[39mself\u001b[39m\u001b[39m.\u001b[39m_layout_validator \u001b[39m=\u001b[39m LayoutValidator()\n\u001b[0;32m    556\u001b[0m \u001b[39m# ### Import Layout ###\u001b[39;00m\n\u001b[1;32m--> 557\u001b[0m \u001b[39mself\u001b[39m\u001b[39m.\u001b[39m_layout_obj \u001b[39m=\u001b[39m \u001b[39mself\u001b[39;49m\u001b[39m.\u001b[39;49m_layout_validator\u001b[39m.\u001b[39;49mvalidate_coerce(\n\u001b[0;32m    558\u001b[0m     layout, skip_invalid\u001b[39m=\u001b[39;49mskip_invalid, _validate\u001b[39m=\u001b[39;49m\u001b[39mself\u001b[39;49m\u001b[39m.\u001b[39;49m_validate\n\u001b[0;32m    559\u001b[0m )\n\u001b[0;32m    561\u001b[0m \u001b[39m# ### Import clone of layout properties ###\u001b[39;00m\n\u001b[0;32m    562\u001b[0m \u001b[39mself\u001b[39m\u001b[39m.\u001b[39m_layout \u001b[39m=\u001b[39m deepcopy(\u001b[39mself\u001b[39m\u001b[39m.\u001b[39m_layout_obj\u001b[39m.\u001b[39m_props)\n",
      "File \u001b[1;32mc:\\Users\\rafae\\AppData\\Local\\Programs\\Python\\Python311\\Lib\\site-packages\\_plotly_utils\\basevalidators.py:2476\u001b[0m, in \u001b[0;36mCompoundValidator.validate_coerce\u001b[1;34m(self, v, skip_invalid, _validate)\u001b[0m\n\u001b[0;32m   2473\u001b[0m     v \u001b[39m=\u001b[39m \u001b[39mself\u001b[39m\u001b[39m.\u001b[39mdata_class()\n\u001b[0;32m   2475\u001b[0m \u001b[39melif\u001b[39;00m \u001b[39misinstance\u001b[39m(v, \u001b[39mdict\u001b[39m):\n\u001b[1;32m-> 2476\u001b[0m     v \u001b[39m=\u001b[39m \u001b[39mself\u001b[39;49m\u001b[39m.\u001b[39;49mdata_class(v, skip_invalid\u001b[39m=\u001b[39;49mskip_invalid, _validate\u001b[39m=\u001b[39;49m_validate)\n\u001b[0;32m   2478\u001b[0m \u001b[39melif\u001b[39;00m \u001b[39misinstance\u001b[39m(v, \u001b[39mself\u001b[39m\u001b[39m.\u001b[39mdata_class):\n\u001b[0;32m   2479\u001b[0m     \u001b[39m# Copy object\u001b[39;00m\n\u001b[0;32m   2480\u001b[0m     v \u001b[39m=\u001b[39m \u001b[39mself\u001b[39m\u001b[39m.\u001b[39mdata_class(v)\n",
      "File \u001b[1;32mc:\\Users\\rafae\\AppData\\Local\\Programs\\Python\\Python311\\Lib\\site-packages\\plotly\\graph_objs\\_layout.py:6795\u001b[0m, in \u001b[0;36mLayout.__init__\u001b[1;34m(self, arg, activeselection, activeshape, annotations, annotationdefaults, autosize, autotypenumbers, bargap, bargroupgap, barmode, barnorm, boxgap, boxgroupgap, boxmode, calendar, clickmode, coloraxis, colorscale, colorway, computed, datarevision, dragmode, editrevision, extendfunnelareacolors, extendiciclecolors, extendpiecolors, extendsunburstcolors, extendtreemapcolors, font, funnelareacolorway, funnelgap, funnelgroupgap, funnelmode, geo, grid, height, hiddenlabels, hiddenlabelssrc, hidesources, hoverdistance, hoverlabel, hovermode, iciclecolorway, images, imagedefaults, legend, mapbox, margin, meta, metasrc, minreducedheight, minreducedwidth, modebar, newselection, newshape, paper_bgcolor, piecolorway, plot_bgcolor, polar, scattergap, scattermode, scene, selectdirection, selectionrevision, selections, selectiondefaults, separators, shapes, shapedefaults, showlegend, sliders, sliderdefaults, smith, spikedistance, sunburstcolorway, template, ternary, title, titlefont, transition, treemapcolorway, uirevision, uniformtext, updatemenus, updatemenudefaults, violingap, violingroupgap, violinmode, waterfallgap, waterfallgroupgap, waterfallmode, width, xaxis, yaxis, **kwargs)\u001b[0m\n\u001b[0;32m   6791\u001b[0m     \u001b[39mself\u001b[39m[\u001b[39m\"\u001b[39m\u001b[39myaxis\u001b[39m\u001b[39m\"\u001b[39m] \u001b[39m=\u001b[39m _v\n\u001b[0;32m   6793\u001b[0m \u001b[39m# Process unknown kwargs\u001b[39;00m\n\u001b[0;32m   6794\u001b[0m \u001b[39m# ----------------------\u001b[39;00m\n\u001b[1;32m-> 6795\u001b[0m \u001b[39mself\u001b[39;49m\u001b[39m.\u001b[39;49m_process_kwargs(\u001b[39m*\u001b[39;49m\u001b[39m*\u001b[39;49m\u001b[39mdict\u001b[39;49m(arg, \u001b[39m*\u001b[39;49m\u001b[39m*\u001b[39;49mkwargs))\n\u001b[0;32m   6797\u001b[0m \u001b[39m# Reset skip_invalid\u001b[39;00m\n\u001b[0;32m   6798\u001b[0m \u001b[39m# ------------------\u001b[39;00m\n\u001b[0;32m   6799\u001b[0m \u001b[39mself\u001b[39m\u001b[39m.\u001b[39m_skip_invalid \u001b[39m=\u001b[39m \u001b[39mFalse\u001b[39;00m\n",
      "File \u001b[1;32mc:\\Users\\rafae\\AppData\\Local\\Programs\\Python\\Python311\\Lib\\site-packages\\plotly\\basedatatypes.py:5709\u001b[0m, in \u001b[0;36mBaseLayoutType._process_kwargs\u001b[1;34m(self, **kwargs)\u001b[0m\n\u001b[0;32m   5703\u001b[0m \u001b[39m\u001b[39m\u001b[39m\"\"\"\u001b[39;00m\n\u001b[0;32m   5704\u001b[0m \u001b[39mProcess any extra kwargs that are not predefined as constructor params\u001b[39;00m\n\u001b[0;32m   5705\u001b[0m \u001b[39m\"\"\"\u001b[39;00m\n\u001b[0;32m   5706\u001b[0m unknown_kwargs \u001b[39m=\u001b[39m {\n\u001b[0;32m   5707\u001b[0m     k: v \u001b[39mfor\u001b[39;00m k, v \u001b[39min\u001b[39;00m kwargs\u001b[39m.\u001b[39mitems() \u001b[39mif\u001b[39;00m \u001b[39mnot\u001b[39;00m \u001b[39mself\u001b[39m\u001b[39m.\u001b[39m_subplot_re_match(k)\n\u001b[0;32m   5708\u001b[0m }\n\u001b[1;32m-> 5709\u001b[0m \u001b[39msuper\u001b[39;49m(BaseLayoutHierarchyType, \u001b[39mself\u001b[39;49m)\u001b[39m.\u001b[39;49m_process_kwargs(\u001b[39m*\u001b[39;49m\u001b[39m*\u001b[39;49munknown_kwargs)\n\u001b[0;32m   5711\u001b[0m subplot_kwargs \u001b[39m=\u001b[39m {k: v \u001b[39mfor\u001b[39;00m k, v \u001b[39min\u001b[39;00m kwargs\u001b[39m.\u001b[39mitems() \u001b[39mif\u001b[39;00m \u001b[39mself\u001b[39m\u001b[39m.\u001b[39m_subplot_re_match(k)}\n\u001b[0;32m   5713\u001b[0m \u001b[39mfor\u001b[39;00m prop, value \u001b[39min\u001b[39;00m subplot_kwargs\u001b[39m.\u001b[39mitems():\n",
      "File \u001b[1;32mc:\\Users\\rafae\\AppData\\Local\\Programs\\Python\\Python311\\Lib\\site-packages\\plotly\\basedatatypes.py:4368\u001b[0m, in \u001b[0;36mBasePlotlyType._process_kwargs\u001b[1;34m(self, **kwargs)\u001b[0m\n\u001b[0;32m   4366\u001b[0m     \u001b[39mself\u001b[39m[k] \u001b[39m=\u001b[39m v\n\u001b[0;32m   4367\u001b[0m \u001b[39melif\u001b[39;00m \u001b[39mnot\u001b[39;00m \u001b[39mself\u001b[39m\u001b[39m.\u001b[39m_skip_invalid:\n\u001b[1;32m-> 4368\u001b[0m     \u001b[39mraise\u001b[39;00m err\n",
      "\u001b[1;31mValueError\u001b[0m: Invalid property specified for object of type plotly.graph_objs.Layout: 'colorbar'\n\nDid you mean \"colorway\"?\n\n    Valid properties:\n        activeselection\n            :class:`plotly.graph_objects.layout.Activeselection`\n            instance or dict with compatible properties\n        activeshape\n            :class:`plotly.graph_objects.layout.Activeshape`\n            instance or dict with compatible properties\n        annotations\n            A tuple of\n            :class:`plotly.graph_objects.layout.Annotation`\n            instances or dicts with compatible properties\n        annotationdefaults\n            When used in a template (as\n            layout.template.layout.annotationdefaults), sets the\n            default property values to use for elements of\n            layout.annotations\n        autosize\n            Determines whether or not a layout width or height that\n            has been left undefined by the user is initialized on\n            each relayout. Note that, regardless of this attribute,\n            an undefined layout width or height is always\n            initialized on the first call to plot.\n        autotypenumbers\n            Using \"strict\" a numeric string in trace data is not\n            converted to a number. Using *convert types* a numeric\n            string in trace data may be treated as a number during\n            automatic axis `type` detection. This is the default\n            value; however it could be overridden for individual\n            axes.\n        bargap\n            Sets the gap (in plot fraction) between bars of\n            adjacent location coordinates.\n        bargroupgap\n            Sets the gap (in plot fraction) between bars of the\n            same location coordinate.\n        barmode\n            Determines how bars at the same location coordinate are\n            displayed on the graph. With \"stack\", the bars are\n            stacked on top of one another With \"relative\", the bars\n            are stacked on top of one another, with negative values\n            below the axis, positive values above With \"group\", the\n            bars are plotted next to one another centered around\n            the shared location. With \"overlay\", the bars are\n            plotted over one another, you might need to reduce\n            \"opacity\" to see multiple bars.\n        barnorm\n            Sets the normalization for bar traces on the graph.\n            With \"fraction\", the value of each bar is divided by\n            the sum of all values at that location coordinate.\n            \"percent\" is the same but multiplied by 100 to show\n            percentages.\n        boxgap\n            Sets the gap (in plot fraction) between boxes of\n            adjacent location coordinates. Has no effect on traces\n            that have \"width\" set.\n        boxgroupgap\n            Sets the gap (in plot fraction) between boxes of the\n            same location coordinate. Has no effect on traces that\n            have \"width\" set.\n        boxmode\n            Determines how boxes at the same location coordinate\n            are displayed on the graph. If \"group\", the boxes are\n            plotted next to one another centered around the shared\n            location. If \"overlay\", the boxes are plotted over one\n            another, you might need to set \"opacity\" to see them\n            multiple boxes. Has no effect on traces that have\n            \"width\" set.\n        calendar\n            Sets the default calendar system to use for\n            interpreting and displaying dates throughout the plot.\n        clickmode\n            Determines the mode of single click interactions.\n            \"event\" is the default value and emits the\n            `plotly_click` event. In addition this mode emits the\n            `plotly_selected` event in drag modes \"lasso\" and\n            \"select\", but with no event data attached (kept for\n            compatibility reasons). The \"select\" flag enables\n            selecting single data points via click. This mode also\n            supports persistent selections, meaning that pressing\n            Shift while clicking, adds to / subtracts from an\n            existing selection. \"select\" with `hovermode`: \"x\" can\n            be confusing, consider explicitly setting `hovermode`:\n            \"closest\" when using this feature. Selection events are\n            sent accordingly as long as \"event\" flag is set as\n            well. When the \"event\" flag is missing, `plotly_click`\n            and `plotly_selected` events are not fired.\n        coloraxis\n            :class:`plotly.graph_objects.layout.Coloraxis` instance\n            or dict with compatible properties\n        colorscale\n            :class:`plotly.graph_objects.layout.Colorscale`\n            instance or dict with compatible properties\n        colorway\n            Sets the default trace colors.\n        computed\n            Placeholder for exporting automargin-impacting values\n            namely `margin.t`, `margin.b`, `margin.l` and\n            `margin.r` in \"full-json\" mode.\n        datarevision\n            If provided, a changed value tells `Plotly.react` that\n            one or more data arrays has changed. This way you can\n            modify arrays in-place rather than making a complete\n            new copy for an incremental change. If NOT provided,\n            `Plotly.react` assumes that data arrays are being\n            treated as immutable, thus any data array with a\n            different identity from its predecessor contains new\n            data.\n        dragmode\n            Determines the mode of drag interactions. \"select\" and\n            \"lasso\" apply only to scatter traces with markers or\n            text. \"orbit\" and \"turntable\" apply only to 3D scenes.\n        editrevision\n            Controls persistence of user-driven changes in\n            `editable: true` configuration, other than trace names\n            and axis titles. Defaults to `layout.uirevision`.\n        extendfunnelareacolors\n            If `true`, the funnelarea slice colors (whether given\n            by `funnelareacolorway` or inherited from `colorway`)\n            will be extended to three times its original length by\n            first repeating every color 20% lighter then each color\n            20% darker. This is intended to reduce the likelihood\n            of reusing the same color when you have many slices,\n            but you can set `false` to disable. Colors provided in\n            the trace, using `marker.colors`, are never extended.\n        extendiciclecolors\n            If `true`, the icicle slice colors (whether given by\n            `iciclecolorway` or inherited from `colorway`) will be\n            extended to three times its original length by first\n            repeating every color 20% lighter then each color 20%\n            darker. This is intended to reduce the likelihood of\n            reusing the same color when you have many slices, but\n            you can set `false` to disable. Colors provided in the\n            trace, using `marker.colors`, are never extended.\n        extendpiecolors\n            If `true`, the pie slice colors (whether given by\n            `piecolorway` or inherited from `colorway`) will be\n            extended to three times its original length by first\n            repeating every color 20% lighter then each color 20%\n            darker. This is intended to reduce the likelihood of\n            reusing the same color when you have many slices, but\n            you can set `false` to disable. Colors provided in the\n            trace, using `marker.colors`, are never extended.\n        extendsunburstcolors\n            If `true`, the sunburst slice colors (whether given by\n            `sunburstcolorway` or inherited from `colorway`) will\n            be extended to three times its original length by first\n            repeating every color 20% lighter then each color 20%\n            darker. This is intended to reduce the likelihood of\n            reusing the same color when you have many slices, but\n            you can set `false` to disable. Colors provided in the\n            trace, using `marker.colors`, are never extended.\n        extendtreemapcolors\n            If `true`, the treemap slice colors (whether given by\n            `treemapcolorway` or inherited from `colorway`) will be\n            extended to three times its original length by first\n            repeating every color 20% lighter then each color 20%\n            darker. This is intended to reduce the likelihood of\n            reusing the same color when you have many slices, but\n            you can set `false` to disable. Colors provided in the\n            trace, using `marker.colors`, are never extended.\n        font\n            Sets the global font. Note that fonts used in traces\n            and other layout components inherit from the global\n            font.\n        funnelareacolorway\n            Sets the default funnelarea slice colors. Defaults to\n            the main `colorway` used for trace colors. If you\n            specify a new list here it can still be extended with\n            lighter and darker colors, see\n            `extendfunnelareacolors`.\n        funnelgap\n            Sets the gap (in plot fraction) between bars of\n            adjacent location coordinates.\n        funnelgroupgap\n            Sets the gap (in plot fraction) between bars of the\n            same location coordinate.\n        funnelmode\n            Determines how bars at the same location coordinate are\n            displayed on the graph. With \"stack\", the bars are\n            stacked on top of one another With \"group\", the bars\n            are plotted next to one another centered around the\n            shared location. With \"overlay\", the bars are plotted\n            over one another, you might need to reduce \"opacity\" to\n            see multiple bars.\n        geo\n            :class:`plotly.graph_objects.layout.Geo` instance or\n            dict with compatible properties\n        grid\n            :class:`plotly.graph_objects.layout.Grid` instance or\n            dict with compatible properties\n        height\n            Sets the plot's height (in px).\n        hiddenlabels\n            hiddenlabels is the funnelarea & pie chart analog of\n            visible:'legendonly' but it can contain many labels,\n            and can simultaneously hide slices from several\n            pies/funnelarea charts\n        hiddenlabelssrc\n            Sets the source reference on Chart Studio Cloud for\n            `hiddenlabels`.\n        hidesources\n            Determines whether or not a text link citing the data\n            source is placed at the bottom-right cored of the\n            figure. Has only an effect only on graphs that have\n            been generated via forked graphs from the Chart Studio\n            Cloud (at https://chart-studio.plotly.com or on-\n            premise).\n        hoverdistance\n            Sets the default distance (in pixels) to look for data\n            to add hover labels (-1 means no cutoff, 0 means no\n            looking for data). This is only a real distance for\n            hovering on point-like objects, like scatter points.\n            For area-like objects (bars, scatter fills, etc)\n            hovering is on inside the area and off outside, but\n            these objects will not supersede hover on point-like\n            objects in case of conflict.\n        hoverlabel\n            :class:`plotly.graph_objects.layout.Hoverlabel`\n            instance or dict with compatible properties\n        hovermode\n            Determines the mode of hover interactions. If\n            \"closest\", a single hoverlabel will appear for the\n            \"closest\" point within the `hoverdistance`. If \"x\" (or\n            \"y\"), multiple hoverlabels will appear for multiple\n            points at the \"closest\" x- (or y-) coordinate within\n            the `hoverdistance`, with the caveat that no more than\n            one hoverlabel will appear per trace. If *x unified*\n            (or *y unified*), a single hoverlabel will appear\n            multiple points at the closest x- (or y-) coordinate\n            within the `hoverdistance` with the caveat that no more\n            than one hoverlabel will appear per trace. In this\n            mode, spikelines are enabled by default perpendicular\n            to the specified axis. If false, hover interactions are\n            disabled.\n        iciclecolorway\n            Sets the default icicle slice colors. Defaults to the\n            main `colorway` used for trace colors. If you specify a\n            new list here it can still be extended with lighter and\n            darker colors, see `extendiciclecolors`.\n        images\n            A tuple of :class:`plotly.graph_objects.layout.Image`\n            instances or dicts with compatible properties\n        imagedefaults\n            When used in a template (as\n            layout.template.layout.imagedefaults), sets the default\n            property values to use for elements of layout.images\n        legend\n            :class:`plotly.graph_objects.layout.Legend` instance or\n            dict with compatible properties\n        mapbox\n            :class:`plotly.graph_objects.layout.Mapbox` instance or\n            dict with compatible properties\n        margin\n            :class:`plotly.graph_objects.layout.Margin` instance or\n            dict with compatible properties\n        meta\n            Assigns extra meta information that can be used in\n            various `text` attributes. Attributes such as the\n            graph, axis and colorbar `title.text`, annotation\n            `text` `trace.name` in legend items, `rangeselector`,\n            `updatemenus` and `sliders` `label` text all support\n            `meta`. One can access `meta` fields using template\n            strings: `%{meta[i]}` where `i` is the index of the\n            `meta` item in question. `meta` can also be an object\n            for example `{key: value}` which can be accessed\n            %{meta[key]}.\n        metasrc\n            Sets the source reference on Chart Studio Cloud for\n            `meta`.\n        minreducedheight\n            Minimum height of the plot with margin.automargin\n            applied (in px)\n        minreducedwidth\n            Minimum width of the plot with margin.automargin\n            applied (in px)\n        modebar\n            :class:`plotly.graph_objects.layout.Modebar` instance\n            or dict with compatible properties\n        newselection\n            :class:`plotly.graph_objects.layout.Newselection`\n            instance or dict with compatible properties\n        newshape\n            :class:`plotly.graph_objects.layout.Newshape` instance\n            or dict with compatible properties\n        paper_bgcolor\n            Sets the background color of the paper where the graph\n            is drawn.\n        piecolorway\n            Sets the default pie slice colors. Defaults to the main\n            `colorway` used for trace colors. If you specify a new\n            list here it can still be extended with lighter and\n            darker colors, see `extendpiecolors`.\n        plot_bgcolor\n            Sets the background color of the plotting area in-\n            between x and y axes.\n        polar\n            :class:`plotly.graph_objects.layout.Polar` instance or\n            dict with compatible properties\n        scattergap\n            Sets the gap (in plot fraction) between scatter points\n            of adjacent location coordinates. Defaults to `bargap`.\n        scattermode\n            Determines how scatter points at the same location\n            coordinate are displayed on the graph. With \"group\",\n            the scatter points are plotted next to one another\n            centered around the shared location. With \"overlay\",\n            the scatter points are plotted over one another, you\n            might need to reduce \"opacity\" to see multiple scatter\n            points.\n        scene\n            :class:`plotly.graph_objects.layout.Scene` instance or\n            dict with compatible properties\n        selectdirection\n            When `dragmode` is set to \"select\", this limits the\n            selection of the drag to horizontal, vertical or\n            diagonal. \"h\" only allows horizontal selection, \"v\"\n            only vertical, \"d\" only diagonal and \"any\" sets no\n            limit.\n        selectionrevision\n            Controls persistence of user-driven changes in selected\n            points from all traces.\n        selections\n            A tuple of\n            :class:`plotly.graph_objects.layout.Selection`\n            instances or dicts with compatible properties\n        selectiondefaults\n            When used in a template (as\n            layout.template.layout.selectiondefaults), sets the\n            default property values to use for elements of\n            layout.selections\n        separators\n            Sets the decimal and thousand separators. For example,\n            *. * puts a '.' before decimals and a space between\n            thousands. In English locales, dflt is \".,\" but other\n            locales may alter this default.\n        shapes\n            A tuple of :class:`plotly.graph_objects.layout.Shape`\n            instances or dicts with compatible properties\n        shapedefaults\n            When used in a template (as\n            layout.template.layout.shapedefaults), sets the default\n            property values to use for elements of layout.shapes\n        showlegend\n            Determines whether or not a legend is drawn. Default is\n            `true` if there is a trace to show and any of these: a)\n            Two or more traces would by default be shown in the\n            legend. b) One pie trace is shown in the legend. c) One\n            trace is explicitly given with `showlegend: true`.\n        sliders\n            A tuple of :class:`plotly.graph_objects.layout.Slider`\n            instances or dicts with compatible properties\n        sliderdefaults\n            When used in a template (as\n            layout.template.layout.sliderdefaults), sets the\n            default property values to use for elements of\n            layout.sliders\n        smith\n            :class:`plotly.graph_objects.layout.Smith` instance or\n            dict with compatible properties\n        spikedistance\n            Sets the default distance (in pixels) to look for data\n            to draw spikelines to (-1 means no cutoff, 0 means no\n            looking for data). As with hoverdistance, distance does\n            not apply to area-like objects. In addition, some\n            objects can be hovered on but will not generate\n            spikelines, such as scatter fills.\n        sunburstcolorway\n            Sets the default sunburst slice colors. Defaults to the\n            main `colorway` used for trace colors. If you specify a\n            new list here it can still be extended with lighter and\n            darker colors, see `extendsunburstcolors`.\n        template\n            Default attributes to be applied to the plot. This\n            should be a dict with format: `{'layout':\n            layoutTemplate, 'data': {trace_type: [traceTemplate,\n            ...], ...}}` where `layoutTemplate` is a dict matching\n            the structure of `figure.layout` and `traceTemplate` is\n            a dict matching the structure of the trace with type\n            `trace_type` (e.g. 'scatter'). Alternatively, this may\n            be specified as an instance of\n            plotly.graph_objs.layout.Template.  Trace templates are\n            applied cyclically to traces of each type. Container\n            arrays (eg `annotations`) have special handling: An\n            object ending in `defaults` (eg `annotationdefaults`)\n            is applied to each array item. But if an item has a\n            `templateitemname` key we look in the template array\n            for an item with matching `name` and apply that\n            instead. If no matching `name` is found we mark the\n            item invisible. Any named template item not referenced\n            is appended to the end of the array, so this can be\n            used to add a watermark annotation or a logo image, for\n            example. To omit one of these items on the plot, make\n            an item with matching `templateitemname` and `visible:\n            false`.\n        ternary\n            :class:`plotly.graph_objects.layout.Ternary` instance\n            or dict with compatible properties\n        title\n            :class:`plotly.graph_objects.layout.Title` instance or\n            dict with compatible properties\n        titlefont\n            Deprecated: Please use layout.title.font instead. Sets\n            the title font. Note that the title's font used to be\n            customized by the now deprecated `titlefont` attribute.\n        transition\n            Sets transition options used during Plotly.react\n            updates.\n        treemapcolorway\n            Sets the default treemap slice colors. Defaults to the\n            main `colorway` used for trace colors. If you specify a\n            new list here it can still be extended with lighter and\n            darker colors, see `extendtreemapcolors`.\n        uirevision\n            Used to allow user interactions with the plot to\n            persist after `Plotly.react` calls that are unaware of\n            these interactions. If `uirevision` is omitted, or if\n            it is given and it changed from the previous\n            `Plotly.react` call, the exact new figure is used. If\n            `uirevision` is truthy and did NOT change, any\n            attribute that has been affected by user interactions\n            and did not receive a different value in the new figure\n            will keep the interaction value. `layout.uirevision`\n            attribute serves as the default for `uirevision`\n            attributes in various sub-containers. For finer control\n            you can set these sub-attributes directly. For example,\n            if your app separately controls the data on the x and y\n            axes you might set `xaxis.uirevision=*time*` and\n            `yaxis.uirevision=*cost*`. Then if only the y data is\n            changed, you can update `yaxis.uirevision=*quantity*`\n            and the y axis range will reset but the x axis range\n            will retain any user-driven zoom.\n        uniformtext\n            :class:`plotly.graph_objects.layout.Uniformtext`\n            instance or dict with compatible properties\n        updatemenus\n            A tuple of\n            :class:`plotly.graph_objects.layout.Updatemenu`\n            instances or dicts with compatible properties\n        updatemenudefaults\n            When used in a template (as\n            layout.template.layout.updatemenudefaults), sets the\n            default property values to use for elements of\n            layout.updatemenus\n        violingap\n            Sets the gap (in plot fraction) between violins of\n            adjacent location coordinates. Has no effect on traces\n            that have \"width\" set.\n        violingroupgap\n            Sets the gap (in plot fraction) between violins of the\n            same location coordinate. Has no effect on traces that\n            have \"width\" set.\n        violinmode\n            Determines how violins at the same location coordinate\n            are displayed on the graph. If \"group\", the violins are\n            plotted next to one another centered around the shared\n            location. If \"overlay\", the violins are plotted over\n            one another, you might need to set \"opacity\" to see\n            them multiple violins. Has no effect on traces that\n            have \"width\" set.\n        waterfallgap\n            Sets the gap (in plot fraction) between bars of\n            adjacent location coordinates.\n        waterfallgroupgap\n            Sets the gap (in plot fraction) between bars of the\n            same location coordinate.\n        waterfallmode\n            Determines how bars at the same location coordinate are\n            displayed on the graph. With \"group\", the bars are\n            plotted next to one another centered around the shared\n            location. With \"overlay\", the bars are plotted over one\n            another, you might need to reduce \"opacity\" to see\n            multiple bars.\n        width\n            Sets the plot's width (in px).\n        xaxis\n            :class:`plotly.graph_objects.layout.XAxis` instance or\n            dict with compatible properties\n        yaxis\n            :class:`plotly.graph_objects.layout.YAxis` instance or\n            dict with compatible properties\n        \nDid you mean \"colorway\"?\n\nBad property path:\ncolorbar\n^^^^^^^^"
     ]
    }
   ],
   "source": [
    "df2=df_w_others.pivot(index='Year', columns='Entity', values='share').reset_index().iloc[:,[0,4,1,6,5,2,3]]\n",
    "colors = {'Ryanair Group': 'blue',\n",
    "          'Air France Group': 'red',\n",
    "          'Lufthansa Airlines': 'yellow',\n",
    "          'Others': 'gray',\n",
    "          \n",
    "          'Turkish Airlines': 'red',\n",
    "          'easyJet Group':'orange'}\n",
    "data = []\n",
    "\n",
    "for i in range(df2.shape[0]):\n",
    "\n",
    "    # for each row, order the columns based on\n",
    "    # their values from smallest to largest\n",
    "    ordered_columns = df2.columns[1:]#[np.argsort(df2.iloc[i, 1:].values)]\n",
    "\n",
    "    # add a separate trace for each column,\n",
    "    # ordered from smallest to largest\n",
    "    for column in ordered_columns:\n",
    "\n",
    "        data.append(go.Bar(x=[df2['Year'][i]],\n",
    "                           y=[df2[column][i]],\n",
    "                           marker=dict(color=colors[column]),\n",
    "                           name=column,\n",
    "                           legendgroup=column,\n",
    "                           showlegend=i == 0,\n",
    "                           text=[df2[column][i]],\n",
    "                           textposition='auto')) \n",
    "        \n",
    "\n",
    "        \n",
    "layout = dict(barmode='stack',\n",
    "              yaxis={'title': None},\n",
    "              xaxis={'type': 'category', 'title': 'Year'},\n",
    "              colorbar={'categoryorder':'array',\n",
    "                     'categoryarray':['Turkish Airlines','Ryanair Group','Lufthansa Airlines','Air France Group','easyJet Group','Others']})\n",
    "\n",
    "# figure\n",
    "fig = go.Figure(data=data, layout=layout)\n",
    "fig.update_traces(texttemplate='%{text:.2%}')\n",
    "\n",
    "fig.show()\n"
   ]
  },
  {
   "cell_type": "code",
   "execution_count": 106,
   "metadata": {},
   "outputs": [
    {
     "data": {
      "application/vnd.plotly.v1+json": {
       "config": {
        "plotlyServerURL": "https://plot.ly"
       },
       "data": [
        {
         "legendgroup": "Ryanair Group",
         "marker": {
          "color": "blue"
         },
         "name": "Ryanair Group",
         "showlegend": true,
         "text": [
          "0.12090147841793367"
         ],
         "textposition": "auto",
         "texttemplate": "%{text:.2%}",
         "type": "bar",
         "x": [
          2020
         ],
         "y": [
          0.12090147841793367
         ]
        },
        {
         "legendgroup": "Air France Group",
         "marker": {
          "color": "red"
         },
         "name": "Air France Group",
         "showlegend": true,
         "text": [
          "0.0647510638312659"
         ],
         "textposition": "auto",
         "texttemplate": "%{text:.2%}",
         "type": "bar",
         "x": [
          2020
         ],
         "y": [
          0.0647510638312659
         ]
        },
        {
         "legendgroup": "easyJet Group",
         "marker": {
          "color": "orange"
         },
         "name": "easyJet Group",
         "showlegend": true,
         "text": [
          "0.06952935673912695"
         ],
         "textposition": "auto",
         "texttemplate": "%{text:.2%}",
         "type": "bar",
         "x": [
          2020
         ],
         "y": [
          0.06952935673912695
         ]
        },
        {
         "legendgroup": "Turkish Airlines",
         "marker": {
          "color": "red"
         },
         "name": "Turkish Airlines",
         "showlegend": true,
         "text": [
          "0.07966311836169637"
         ],
         "textposition": "auto",
         "texttemplate": "%{text:.2%}",
         "type": "bar",
         "x": [
          2020
         ],
         "y": [
          0.07966311836169637
         ]
        },
        {
         "legendgroup": "Lufthansa Airlines",
         "marker": {
          "color": "yellow"
         },
         "name": "Lufthansa Airlines",
         "showlegend": true,
         "text": [
          "0.06743366300577593"
         ],
         "textposition": "auto",
         "texttemplate": "%{text:.2%}",
         "type": "bar",
         "x": [
          2020
         ],
         "y": [
          0.06743366300577593
         ]
        },
        {
         "legendgroup": "Others",
         "marker": {
          "color": "gray"
         },
         "name": "Others",
         "showlegend": true,
         "text": [
          "0.5977213196442012"
         ],
         "textposition": "auto",
         "texttemplate": "%{text:.2%}",
         "type": "bar",
         "x": [
          2020
         ],
         "y": [
          0.5977213196442012
         ]
        },
        {
         "legendgroup": "Ryanair Group",
         "marker": {
          "color": "blue"
         },
         "name": "Ryanair Group",
         "showlegend": false,
         "text": [
          "0.13583096996158023"
         ],
         "textposition": "auto",
         "texttemplate": "%{text:.2%}",
         "type": "bar",
         "x": [
          2021
         ],
         "y": [
          0.13583096996158023
         ]
        },
        {
         "legendgroup": "Air France Group",
         "marker": {
          "color": "red"
         },
         "name": "Air France Group",
         "showlegend": false,
         "text": [
          "0.06664384304675601"
         ],
         "textposition": "auto",
         "texttemplate": "%{text:.2%}",
         "type": "bar",
         "x": [
          2021
         ],
         "y": [
          0.06664384304675601
         ]
        },
        {
         "legendgroup": "easyJet Group",
         "marker": {
          "color": "orange"
         },
         "name": "easyJet Group",
         "showlegend": false,
         "text": [
          "0.062395832012521996"
         ],
         "textposition": "auto",
         "texttemplate": "%{text:.2%}",
         "type": "bar",
         "x": [
          2021
         ],
         "y": [
          0.062395832012521996
         ]
        },
        {
         "legendgroup": "Turkish Airlines",
         "marker": {
          "color": "red"
         },
         "name": "Turkish Airlines",
         "showlegend": false,
         "text": [
          "0.09649685611680058"
         ],
         "textposition": "auto",
         "texttemplate": "%{text:.2%}",
         "type": "bar",
         "x": [
          2021
         ],
         "y": [
          0.09649685611680058
         ]
        },
        {
         "legendgroup": "Lufthansa Airlines",
         "marker": {
          "color": "yellow"
         },
         "name": "Lufthansa Airlines",
         "showlegend": false,
         "text": [
          "0.06349587413759825"
         ],
         "textposition": "auto",
         "texttemplate": "%{text:.2%}",
         "type": "bar",
         "x": [
          2021
         ],
         "y": [
          0.06349587413759825
         ]
        },
        {
         "legendgroup": "Others",
         "marker": {
          "color": "gray"
         },
         "name": "Others",
         "showlegend": false,
         "text": [
          "0.5751366247247429"
         ],
         "textposition": "auto",
         "texttemplate": "%{text:.2%}",
         "type": "bar",
         "x": [
          2021
         ],
         "y": [
          0.5751366247247429
         ]
        },
        {
         "legendgroup": "Ryanair Group",
         "marker": {
          "color": "blue"
         },
         "name": "Ryanair Group",
         "showlegend": false,
         "text": [
          "0.15468912560303077"
         ],
         "textposition": "auto",
         "texttemplate": "%{text:.2%}",
         "type": "bar",
         "x": [
          2022
         ],
         "y": [
          0.15468912560303077
         ]
        },
        {
         "legendgroup": "Air France Group",
         "marker": {
          "color": "red"
         },
         "name": "Air France Group",
         "showlegend": false,
         "text": [
          "0.059049669175642056"
         ],
         "textposition": "auto",
         "texttemplate": "%{text:.2%}",
         "type": "bar",
         "x": [
          2022
         ],
         "y": [
          0.059049669175642056
         ]
        },
        {
         "legendgroup": "easyJet Group",
         "marker": {
          "color": "orange"
         },
         "name": "easyJet Group",
         "showlegend": false,
         "text": [
          "0.08115631697433831"
         ],
         "textposition": "auto",
         "texttemplate": "%{text:.2%}",
         "type": "bar",
         "x": [
          2022
         ],
         "y": [
          0.08115631697433831
         ]
        },
        {
         "legendgroup": "Turkish Airlines",
         "marker": {
          "color": "red"
         },
         "name": "Turkish Airlines",
         "showlegend": false,
         "text": [
          "0.07650794499867757"
         ],
         "textposition": "auto",
         "texttemplate": "%{text:.2%}",
         "type": "bar",
         "x": [
          2022
         ],
         "y": [
          0.07650794499867757
         ]
        },
        {
         "legendgroup": "Lufthansa Airlines",
         "marker": {
          "color": "yellow"
         },
         "name": "Lufthansa Airlines",
         "showlegend": false,
         "text": [
          "0.06563292666157144"
         ],
         "textposition": "auto",
         "texttemplate": "%{text:.2%}",
         "type": "bar",
         "x": [
          2022
         ],
         "y": [
          0.06563292666157144
         ]
        },
        {
         "legendgroup": "Others",
         "marker": {
          "color": "gray"
         },
         "name": "Others",
         "showlegend": false,
         "text": [
          "0.5629640165867398"
         ],
         "textposition": "auto",
         "texttemplate": "%{text:.2%}",
         "type": "bar",
         "x": [
          2022
         ],
         "y": [
          0.5629640165867398
         ]
        },
        {
         "legendgroup": "Ryanair Group",
         "marker": {
          "color": "blue"
         },
         "name": "Ryanair Group",
         "showlegend": false,
         "text": [
          "0.149226245849432"
         ],
         "textposition": "auto",
         "texttemplate": "%{text:.2%}",
         "type": "bar",
         "x": [
          2023
         ],
         "y": [
          0.149226245849432
         ]
        },
        {
         "legendgroup": "Air France Group",
         "marker": {
          "color": "red"
         },
         "name": "Air France Group",
         "showlegend": false,
         "text": [
          "0.05828517882242699"
         ],
         "textposition": "auto",
         "texttemplate": "%{text:.2%}",
         "type": "bar",
         "x": [
          2023
         ],
         "y": [
          0.05828517882242699
         ]
        },
        {
         "legendgroup": "easyJet Group",
         "marker": {
          "color": "orange"
         },
         "name": "easyJet Group",
         "showlegend": false,
         "text": [
          "0.07400674955353809"
         ],
         "textposition": "auto",
         "texttemplate": "%{text:.2%}",
         "type": "bar",
         "x": [
          2023
         ],
         "y": [
          0.07400674955353809
         ]
        },
        {
         "legendgroup": "Turkish Airlines",
         "marker": {
          "color": "red"
         },
         "name": "Turkish Airlines",
         "showlegend": false,
         "text": [
          "0.08444343344492052"
         ],
         "textposition": "auto",
         "texttemplate": "%{text:.2%}",
         "type": "bar",
         "x": [
          2023
         ],
         "y": [
          0.08444343344492052
         ]
        },
        {
         "legendgroup": "Lufthansa Airlines",
         "marker": {
          "color": "yellow"
         },
         "name": "Lufthansa Airlines",
         "showlegend": false,
         "text": [
          "0.06334598591692753"
         ],
         "textposition": "auto",
         "texttemplate": "%{text:.2%}",
         "type": "bar",
         "x": [
          2023
         ],
         "y": [
          0.06334598591692753
         ]
        },
        {
         "legendgroup": "Others",
         "marker": {
          "color": "gray"
         },
         "name": "Others",
         "showlegend": false,
         "text": [
          "0.5706924064127549"
         ],
         "textposition": "auto",
         "texttemplate": "%{text:.2%}",
         "type": "bar",
         "x": [
          2023
         ],
         "y": [
          0.5706924064127549
         ]
        }
       ],
       "layout": {
        "barmode": "stack",
        "template": {
         "data": {
          "bar": [
           {
            "error_x": {
             "color": "#2a3f5f"
            },
            "error_y": {
             "color": "#2a3f5f"
            },
            "marker": {
             "line": {
              "color": "#E5ECF6",
              "width": 0.5
             },
             "pattern": {
              "fillmode": "overlay",
              "size": 10,
              "solidity": 0.2
             }
            },
            "type": "bar"
           }
          ],
          "barpolar": [
           {
            "marker": {
             "line": {
              "color": "#E5ECF6",
              "width": 0.5
             },
             "pattern": {
              "fillmode": "overlay",
              "size": 10,
              "solidity": 0.2
             }
            },
            "type": "barpolar"
           }
          ],
          "carpet": [
           {
            "aaxis": {
             "endlinecolor": "#2a3f5f",
             "gridcolor": "white",
             "linecolor": "white",
             "minorgridcolor": "white",
             "startlinecolor": "#2a3f5f"
            },
            "baxis": {
             "endlinecolor": "#2a3f5f",
             "gridcolor": "white",
             "linecolor": "white",
             "minorgridcolor": "white",
             "startlinecolor": "#2a3f5f"
            },
            "type": "carpet"
           }
          ],
          "choropleth": [
           {
            "colorbar": {
             "outlinewidth": 0,
             "ticks": ""
            },
            "type": "choropleth"
           }
          ],
          "contour": [
           {
            "colorbar": {
             "outlinewidth": 0,
             "ticks": ""
            },
            "colorscale": [
             [
              0,
              "#0d0887"
             ],
             [
              0.1111111111111111,
              "#46039f"
             ],
             [
              0.2222222222222222,
              "#7201a8"
             ],
             [
              0.3333333333333333,
              "#9c179e"
             ],
             [
              0.4444444444444444,
              "#bd3786"
             ],
             [
              0.5555555555555556,
              "#d8576b"
             ],
             [
              0.6666666666666666,
              "#ed7953"
             ],
             [
              0.7777777777777778,
              "#fb9f3a"
             ],
             [
              0.8888888888888888,
              "#fdca26"
             ],
             [
              1,
              "#f0f921"
             ]
            ],
            "type": "contour"
           }
          ],
          "contourcarpet": [
           {
            "colorbar": {
             "outlinewidth": 0,
             "ticks": ""
            },
            "type": "contourcarpet"
           }
          ],
          "heatmap": [
           {
            "colorbar": {
             "outlinewidth": 0,
             "ticks": ""
            },
            "colorscale": [
             [
              0,
              "#0d0887"
             ],
             [
              0.1111111111111111,
              "#46039f"
             ],
             [
              0.2222222222222222,
              "#7201a8"
             ],
             [
              0.3333333333333333,
              "#9c179e"
             ],
             [
              0.4444444444444444,
              "#bd3786"
             ],
             [
              0.5555555555555556,
              "#d8576b"
             ],
             [
              0.6666666666666666,
              "#ed7953"
             ],
             [
              0.7777777777777778,
              "#fb9f3a"
             ],
             [
              0.8888888888888888,
              "#fdca26"
             ],
             [
              1,
              "#f0f921"
             ]
            ],
            "type": "heatmap"
           }
          ],
          "heatmapgl": [
           {
            "colorbar": {
             "outlinewidth": 0,
             "ticks": ""
            },
            "colorscale": [
             [
              0,
              "#0d0887"
             ],
             [
              0.1111111111111111,
              "#46039f"
             ],
             [
              0.2222222222222222,
              "#7201a8"
             ],
             [
              0.3333333333333333,
              "#9c179e"
             ],
             [
              0.4444444444444444,
              "#bd3786"
             ],
             [
              0.5555555555555556,
              "#d8576b"
             ],
             [
              0.6666666666666666,
              "#ed7953"
             ],
             [
              0.7777777777777778,
              "#fb9f3a"
             ],
             [
              0.8888888888888888,
              "#fdca26"
             ],
             [
              1,
              "#f0f921"
             ]
            ],
            "type": "heatmapgl"
           }
          ],
          "histogram": [
           {
            "marker": {
             "pattern": {
              "fillmode": "overlay",
              "size": 10,
              "solidity": 0.2
             }
            },
            "type": "histogram"
           }
          ],
          "histogram2d": [
           {
            "colorbar": {
             "outlinewidth": 0,
             "ticks": ""
            },
            "colorscale": [
             [
              0,
              "#0d0887"
             ],
             [
              0.1111111111111111,
              "#46039f"
             ],
             [
              0.2222222222222222,
              "#7201a8"
             ],
             [
              0.3333333333333333,
              "#9c179e"
             ],
             [
              0.4444444444444444,
              "#bd3786"
             ],
             [
              0.5555555555555556,
              "#d8576b"
             ],
             [
              0.6666666666666666,
              "#ed7953"
             ],
             [
              0.7777777777777778,
              "#fb9f3a"
             ],
             [
              0.8888888888888888,
              "#fdca26"
             ],
             [
              1,
              "#f0f921"
             ]
            ],
            "type": "histogram2d"
           }
          ],
          "histogram2dcontour": [
           {
            "colorbar": {
             "outlinewidth": 0,
             "ticks": ""
            },
            "colorscale": [
             [
              0,
              "#0d0887"
             ],
             [
              0.1111111111111111,
              "#46039f"
             ],
             [
              0.2222222222222222,
              "#7201a8"
             ],
             [
              0.3333333333333333,
              "#9c179e"
             ],
             [
              0.4444444444444444,
              "#bd3786"
             ],
             [
              0.5555555555555556,
              "#d8576b"
             ],
             [
              0.6666666666666666,
              "#ed7953"
             ],
             [
              0.7777777777777778,
              "#fb9f3a"
             ],
             [
              0.8888888888888888,
              "#fdca26"
             ],
             [
              1,
              "#f0f921"
             ]
            ],
            "type": "histogram2dcontour"
           }
          ],
          "mesh3d": [
           {
            "colorbar": {
             "outlinewidth": 0,
             "ticks": ""
            },
            "type": "mesh3d"
           }
          ],
          "parcoords": [
           {
            "line": {
             "colorbar": {
              "outlinewidth": 0,
              "ticks": ""
             }
            },
            "type": "parcoords"
           }
          ],
          "pie": [
           {
            "automargin": true,
            "type": "pie"
           }
          ],
          "scatter": [
           {
            "fillpattern": {
             "fillmode": "overlay",
             "size": 10,
             "solidity": 0.2
            },
            "type": "scatter"
           }
          ],
          "scatter3d": [
           {
            "line": {
             "colorbar": {
              "outlinewidth": 0,
              "ticks": ""
             }
            },
            "marker": {
             "colorbar": {
              "outlinewidth": 0,
              "ticks": ""
             }
            },
            "type": "scatter3d"
           }
          ],
          "scattercarpet": [
           {
            "marker": {
             "colorbar": {
              "outlinewidth": 0,
              "ticks": ""
             }
            },
            "type": "scattercarpet"
           }
          ],
          "scattergeo": [
           {
            "marker": {
             "colorbar": {
              "outlinewidth": 0,
              "ticks": ""
             }
            },
            "type": "scattergeo"
           }
          ],
          "scattergl": [
           {
            "marker": {
             "colorbar": {
              "outlinewidth": 0,
              "ticks": ""
             }
            },
            "type": "scattergl"
           }
          ],
          "scattermapbox": [
           {
            "marker": {
             "colorbar": {
              "outlinewidth": 0,
              "ticks": ""
             }
            },
            "type": "scattermapbox"
           }
          ],
          "scatterpolar": [
           {
            "marker": {
             "colorbar": {
              "outlinewidth": 0,
              "ticks": ""
             }
            },
            "type": "scatterpolar"
           }
          ],
          "scatterpolargl": [
           {
            "marker": {
             "colorbar": {
              "outlinewidth": 0,
              "ticks": ""
             }
            },
            "type": "scatterpolargl"
           }
          ],
          "scatterternary": [
           {
            "marker": {
             "colorbar": {
              "outlinewidth": 0,
              "ticks": ""
             }
            },
            "type": "scatterternary"
           }
          ],
          "surface": [
           {
            "colorbar": {
             "outlinewidth": 0,
             "ticks": ""
            },
            "colorscale": [
             [
              0,
              "#0d0887"
             ],
             [
              0.1111111111111111,
              "#46039f"
             ],
             [
              0.2222222222222222,
              "#7201a8"
             ],
             [
              0.3333333333333333,
              "#9c179e"
             ],
             [
              0.4444444444444444,
              "#bd3786"
             ],
             [
              0.5555555555555556,
              "#d8576b"
             ],
             [
              0.6666666666666666,
              "#ed7953"
             ],
             [
              0.7777777777777778,
              "#fb9f3a"
             ],
             [
              0.8888888888888888,
              "#fdca26"
             ],
             [
              1,
              "#f0f921"
             ]
            ],
            "type": "surface"
           }
          ],
          "table": [
           {
            "cells": {
             "fill": {
              "color": "#EBF0F8"
             },
             "line": {
              "color": "white"
             }
            },
            "header": {
             "fill": {
              "color": "#C8D4E3"
             },
             "line": {
              "color": "white"
             }
            },
            "type": "table"
           }
          ]
         },
         "layout": {
          "annotationdefaults": {
           "arrowcolor": "#2a3f5f",
           "arrowhead": 0,
           "arrowwidth": 1
          },
          "autotypenumbers": "strict",
          "coloraxis": {
           "colorbar": {
            "outlinewidth": 0,
            "ticks": ""
           }
          },
          "colorscale": {
           "diverging": [
            [
             0,
             "#8e0152"
            ],
            [
             0.1,
             "#c51b7d"
            ],
            [
             0.2,
             "#de77ae"
            ],
            [
             0.3,
             "#f1b6da"
            ],
            [
             0.4,
             "#fde0ef"
            ],
            [
             0.5,
             "#f7f7f7"
            ],
            [
             0.6,
             "#e6f5d0"
            ],
            [
             0.7,
             "#b8e186"
            ],
            [
             0.8,
             "#7fbc41"
            ],
            [
             0.9,
             "#4d9221"
            ],
            [
             1,
             "#276419"
            ]
           ],
           "sequential": [
            [
             0,
             "#0d0887"
            ],
            [
             0.1111111111111111,
             "#46039f"
            ],
            [
             0.2222222222222222,
             "#7201a8"
            ],
            [
             0.3333333333333333,
             "#9c179e"
            ],
            [
             0.4444444444444444,
             "#bd3786"
            ],
            [
             0.5555555555555556,
             "#d8576b"
            ],
            [
             0.6666666666666666,
             "#ed7953"
            ],
            [
             0.7777777777777778,
             "#fb9f3a"
            ],
            [
             0.8888888888888888,
             "#fdca26"
            ],
            [
             1,
             "#f0f921"
            ]
           ],
           "sequentialminus": [
            [
             0,
             "#0d0887"
            ],
            [
             0.1111111111111111,
             "#46039f"
            ],
            [
             0.2222222222222222,
             "#7201a8"
            ],
            [
             0.3333333333333333,
             "#9c179e"
            ],
            [
             0.4444444444444444,
             "#bd3786"
            ],
            [
             0.5555555555555556,
             "#d8576b"
            ],
            [
             0.6666666666666666,
             "#ed7953"
            ],
            [
             0.7777777777777778,
             "#fb9f3a"
            ],
            [
             0.8888888888888888,
             "#fdca26"
            ],
            [
             1,
             "#f0f921"
            ]
           ]
          },
          "colorway": [
           "#636efa",
           "#EF553B",
           "#00cc96",
           "#ab63fa",
           "#FFA15A",
           "#19d3f3",
           "#FF6692",
           "#B6E880",
           "#FF97FF",
           "#FECB52"
          ],
          "font": {
           "color": "#2a3f5f"
          },
          "geo": {
           "bgcolor": "white",
           "lakecolor": "white",
           "landcolor": "#E5ECF6",
           "showlakes": true,
           "showland": true,
           "subunitcolor": "white"
          },
          "hoverlabel": {
           "align": "left"
          },
          "hovermode": "closest",
          "mapbox": {
           "style": "light"
          },
          "paper_bgcolor": "white",
          "plot_bgcolor": "#E5ECF6",
          "polar": {
           "angularaxis": {
            "gridcolor": "white",
            "linecolor": "white",
            "ticks": ""
           },
           "bgcolor": "#E5ECF6",
           "radialaxis": {
            "gridcolor": "white",
            "linecolor": "white",
            "ticks": ""
           }
          },
          "scene": {
           "xaxis": {
            "backgroundcolor": "#E5ECF6",
            "gridcolor": "white",
            "gridwidth": 2,
            "linecolor": "white",
            "showbackground": true,
            "ticks": "",
            "zerolinecolor": "white"
           },
           "yaxis": {
            "backgroundcolor": "#E5ECF6",
            "gridcolor": "white",
            "gridwidth": 2,
            "linecolor": "white",
            "showbackground": true,
            "ticks": "",
            "zerolinecolor": "white"
           },
           "zaxis": {
            "backgroundcolor": "#E5ECF6",
            "gridcolor": "white",
            "gridwidth": 2,
            "linecolor": "white",
            "showbackground": true,
            "ticks": "",
            "zerolinecolor": "white"
           }
          },
          "shapedefaults": {
           "line": {
            "color": "#2a3f5f"
           }
          },
          "ternary": {
           "aaxis": {
            "gridcolor": "white",
            "linecolor": "white",
            "ticks": ""
           },
           "baxis": {
            "gridcolor": "white",
            "linecolor": "white",
            "ticks": ""
           },
           "bgcolor": "#E5ECF6",
           "caxis": {
            "gridcolor": "white",
            "linecolor": "white",
            "ticks": ""
           }
          },
          "title": {
           "x": 0.05
          },
          "xaxis": {
           "automargin": true,
           "gridcolor": "white",
           "linecolor": "white",
           "ticks": "",
           "title": {
            "standoff": 15
           },
           "zerolinecolor": "white",
           "zerolinewidth": 2
          },
          "yaxis": {
           "automargin": true,
           "gridcolor": "white",
           "linecolor": "white",
           "ticks": "",
           "title": {
            "standoff": 15
           },
           "zerolinecolor": "white",
           "zerolinewidth": 2
          }
         }
        },
        "xaxis": {
         "title": {
          "text": "Year"
         },
         "type": "category"
        }
       }
      }
     },
     "metadata": {},
     "output_type": "display_data"
    },
    {
     "data": {
      "text/plain": [
       "[Bar({\n",
       "     'legendgroup': 'Ryanair Group',\n",
       "     'marker': {'color': 'blue'},\n",
       "     'name': 'Ryanair Group',\n",
       "     'showlegend': True,\n",
       "     'text': [0.12090147841793367],\n",
       "     'textposition': 'auto',\n",
       "     'x': [2020],\n",
       "     'y': [0.12090147841793367]\n",
       " }),\n",
       " Bar({\n",
       "     'legendgroup': 'Air France Group',\n",
       "     'marker': {'color': 'red'},\n",
       "     'name': 'Air France Group',\n",
       "     'showlegend': True,\n",
       "     'text': [0.0647510638312659],\n",
       "     'textposition': 'auto',\n",
       "     'x': [2020],\n",
       "     'y': [0.0647510638312659]\n",
       " }),\n",
       " Bar({\n",
       "     'legendgroup': 'easyJet Group',\n",
       "     'marker': {'color': 'orange'},\n",
       "     'name': 'easyJet Group',\n",
       "     'showlegend': True,\n",
       "     'text': [0.06952935673912695],\n",
       "     'textposition': 'auto',\n",
       "     'x': [2020],\n",
       "     'y': [0.06952935673912695]\n",
       " }),\n",
       " Bar({\n",
       "     'legendgroup': 'Turkish Airlines',\n",
       "     'marker': {'color': 'red'},\n",
       "     'name': 'Turkish Airlines',\n",
       "     'showlegend': True,\n",
       "     'text': [0.07966311836169637],\n",
       "     'textposition': 'auto',\n",
       "     'x': [2020],\n",
       "     'y': [0.07966311836169637]\n",
       " }),\n",
       " Bar({\n",
       "     'legendgroup': 'Lufthansa Airlines',\n",
       "     'marker': {'color': 'yellow'},\n",
       "     'name': 'Lufthansa Airlines',\n",
       "     'showlegend': True,\n",
       "     'text': [0.06743366300577593],\n",
       "     'textposition': 'auto',\n",
       "     'x': [2020],\n",
       "     'y': [0.06743366300577593]\n",
       " }),\n",
       " Bar({\n",
       "     'legendgroup': 'Others',\n",
       "     'marker': {'color': 'gray'},\n",
       "     'name': 'Others',\n",
       "     'showlegend': True,\n",
       "     'text': [0.5977213196442012],\n",
       "     'textposition': 'auto',\n",
       "     'x': [2020],\n",
       "     'y': [0.5977213196442012]\n",
       " }),\n",
       " Bar({\n",
       "     'legendgroup': 'Ryanair Group',\n",
       "     'marker': {'color': 'blue'},\n",
       "     'name': 'Ryanair Group',\n",
       "     'showlegend': False,\n",
       "     'text': [0.13583096996158023],\n",
       "     'textposition': 'auto',\n",
       "     'x': [2021],\n",
       "     'y': [0.13583096996158023]\n",
       " }),\n",
       " Bar({\n",
       "     'legendgroup': 'Air France Group',\n",
       "     'marker': {'color': 'red'},\n",
       "     'name': 'Air France Group',\n",
       "     'showlegend': False,\n",
       "     'text': [0.06664384304675601],\n",
       "     'textposition': 'auto',\n",
       "     'x': [2021],\n",
       "     'y': [0.06664384304675601]\n",
       " }),\n",
       " Bar({\n",
       "     'legendgroup': 'easyJet Group',\n",
       "     'marker': {'color': 'orange'},\n",
       "     'name': 'easyJet Group',\n",
       "     'showlegend': False,\n",
       "     'text': [0.062395832012521996],\n",
       "     'textposition': 'auto',\n",
       "     'x': [2021],\n",
       "     'y': [0.062395832012521996]\n",
       " }),\n",
       " Bar({\n",
       "     'legendgroup': 'Turkish Airlines',\n",
       "     'marker': {'color': 'red'},\n",
       "     'name': 'Turkish Airlines',\n",
       "     'showlegend': False,\n",
       "     'text': [0.09649685611680058],\n",
       "     'textposition': 'auto',\n",
       "     'x': [2021],\n",
       "     'y': [0.09649685611680058]\n",
       " }),\n",
       " Bar({\n",
       "     'legendgroup': 'Lufthansa Airlines',\n",
       "     'marker': {'color': 'yellow'},\n",
       "     'name': 'Lufthansa Airlines',\n",
       "     'showlegend': False,\n",
       "     'text': [0.06349587413759825],\n",
       "     'textposition': 'auto',\n",
       "     'x': [2021],\n",
       "     'y': [0.06349587413759825]\n",
       " }),\n",
       " Bar({\n",
       "     'legendgroup': 'Others',\n",
       "     'marker': {'color': 'gray'},\n",
       "     'name': 'Others',\n",
       "     'showlegend': False,\n",
       "     'text': [0.5751366247247429],\n",
       "     'textposition': 'auto',\n",
       "     'x': [2021],\n",
       "     'y': [0.5751366247247429]\n",
       " }),\n",
       " Bar({\n",
       "     'legendgroup': 'Ryanair Group',\n",
       "     'marker': {'color': 'blue'},\n",
       "     'name': 'Ryanair Group',\n",
       "     'showlegend': False,\n",
       "     'text': [0.15468912560303077],\n",
       "     'textposition': 'auto',\n",
       "     'x': [2022],\n",
       "     'y': [0.15468912560303077]\n",
       " }),\n",
       " Bar({\n",
       "     'legendgroup': 'Air France Group',\n",
       "     'marker': {'color': 'red'},\n",
       "     'name': 'Air France Group',\n",
       "     'showlegend': False,\n",
       "     'text': [0.059049669175642056],\n",
       "     'textposition': 'auto',\n",
       "     'x': [2022],\n",
       "     'y': [0.059049669175642056]\n",
       " }),\n",
       " Bar({\n",
       "     'legendgroup': 'easyJet Group',\n",
       "     'marker': {'color': 'orange'},\n",
       "     'name': 'easyJet Group',\n",
       "     'showlegend': False,\n",
       "     'text': [0.08115631697433831],\n",
       "     'textposition': 'auto',\n",
       "     'x': [2022],\n",
       "     'y': [0.08115631697433831]\n",
       " }),\n",
       " Bar({\n",
       "     'legendgroup': 'Turkish Airlines',\n",
       "     'marker': {'color': 'red'},\n",
       "     'name': 'Turkish Airlines',\n",
       "     'showlegend': False,\n",
       "     'text': [0.07650794499867757],\n",
       "     'textposition': 'auto',\n",
       "     'x': [2022],\n",
       "     'y': [0.07650794499867757]\n",
       " }),\n",
       " Bar({\n",
       "     'legendgroup': 'Lufthansa Airlines',\n",
       "     'marker': {'color': 'yellow'},\n",
       "     'name': 'Lufthansa Airlines',\n",
       "     'showlegend': False,\n",
       "     'text': [0.06563292666157144],\n",
       "     'textposition': 'auto',\n",
       "     'x': [2022],\n",
       "     'y': [0.06563292666157144]\n",
       " }),\n",
       " Bar({\n",
       "     'legendgroup': 'Others',\n",
       "     'marker': {'color': 'gray'},\n",
       "     'name': 'Others',\n",
       "     'showlegend': False,\n",
       "     'text': [0.5629640165867398],\n",
       "     'textposition': 'auto',\n",
       "     'x': [2022],\n",
       "     'y': [0.5629640165867398]\n",
       " }),\n",
       " Bar({\n",
       "     'legendgroup': 'Ryanair Group',\n",
       "     'marker': {'color': 'blue'},\n",
       "     'name': 'Ryanair Group',\n",
       "     'showlegend': False,\n",
       "     'text': [0.149226245849432],\n",
       "     'textposition': 'auto',\n",
       "     'x': [2023],\n",
       "     'y': [0.149226245849432]\n",
       " }),\n",
       " Bar({\n",
       "     'legendgroup': 'Air France Group',\n",
       "     'marker': {'color': 'red'},\n",
       "     'name': 'Air France Group',\n",
       "     'showlegend': False,\n",
       "     'text': [0.05828517882242699],\n",
       "     'textposition': 'auto',\n",
       "     'x': [2023],\n",
       "     'y': [0.05828517882242699]\n",
       " }),\n",
       " Bar({\n",
       "     'legendgroup': 'easyJet Group',\n",
       "     'marker': {'color': 'orange'},\n",
       "     'name': 'easyJet Group',\n",
       "     'showlegend': False,\n",
       "     'text': [0.07400674955353809],\n",
       "     'textposition': 'auto',\n",
       "     'x': [2023],\n",
       "     'y': [0.07400674955353809]\n",
       " }),\n",
       " Bar({\n",
       "     'legendgroup': 'Turkish Airlines',\n",
       "     'marker': {'color': 'red'},\n",
       "     'name': 'Turkish Airlines',\n",
       "     'showlegend': False,\n",
       "     'text': [0.08444343344492052],\n",
       "     'textposition': 'auto',\n",
       "     'x': [2023],\n",
       "     'y': [0.08444343344492052]\n",
       " }),\n",
       " Bar({\n",
       "     'legendgroup': 'Lufthansa Airlines',\n",
       "     'marker': {'color': 'yellow'},\n",
       "     'name': 'Lufthansa Airlines',\n",
       "     'showlegend': False,\n",
       "     'text': [0.06334598591692753],\n",
       "     'textposition': 'auto',\n",
       "     'x': [2023],\n",
       "     'y': [0.06334598591692753]\n",
       " }),\n",
       " Bar({\n",
       "     'legendgroup': 'Others',\n",
       "     'marker': {'color': 'gray'},\n",
       "     'name': 'Others',\n",
       "     'showlegend': False,\n",
       "     'text': [0.5706924064127549],\n",
       "     'textposition': 'auto',\n",
       "     'x': [2023],\n",
       "     'y': [0.5706924064127549]\n",
       " })]"
      ]
     },
     "execution_count": 106,
     "metadata": {},
     "output_type": "execute_result"
    }
   ],
   "source": [
    "\n",
    "#                     'categoryorder':'array',\n",
    "#                     'categoryarray':['Turkish Airlines','Ryanair Group','Lufthansa Airlines','Air France Group','easyJet Group','Others']\n",
    "data"
   ]
  }
 ],
 "metadata": {
  "kernelspec": {
   "display_name": "Python 3",
   "language": "python",
   "name": "python3"
  },
  "language_info": {
   "codemirror_mode": {
    "name": "ipython",
    "version": 3
   },
   "file_extension": ".py",
   "mimetype": "text/x-python",
   "name": "python",
   "nbconvert_exporter": "python",
   "pygments_lexer": "ipython3",
   "version": "3.11.1"
  },
  "orig_nbformat": 4
 },
 "nbformat": 4,
 "nbformat_minor": 2
}
